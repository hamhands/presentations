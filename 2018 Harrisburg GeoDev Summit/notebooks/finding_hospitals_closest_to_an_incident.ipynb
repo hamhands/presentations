{
 "cells": [
  {
   "cell_type": "markdown",
   "metadata": {},
   "source": [
    "# Find hospitals closest to an incident"
   ]
  },
  {
   "cell_type": "markdown",
   "metadata": {},
   "source": [
    "The `network` module of the ArcGIS API for Python can be used to solve different types of network analysis operations. In this sample, we see how to find the hospital that is closest to an incident."
   ]
  },
  {
   "cell_type": "markdown",
   "metadata": {},
   "source": [
    "## Closest facility"
   ]
  },
  {
   "cell_type": "markdown",
   "metadata": {},
   "source": [
    "The closest facility solver provides functionality for finding out the closest locations to a particular input point. This solver would be useful in cases when you have an incident and need to find the closest facility or need to get information on the travel time and the distance to each of the facilities from an incident point for reporting purposes.\n",
    "\n",
    "![](http://desktop.arcgis.com/en/arcmap/latest/extensions/network-analyst/GUID-96C273DB-6A24-4D42-AADA-975A33B44F3D-web.png)\n",
    "\n",
    "When finding closest facilities, you can specify how many to find and whether the direction of travel is toward or away from them. The closest facility solver displays the best routes between incidents and facilities, reports their travel costs, and returns driving directions."
   ]
  },
  {
   "cell_type": "markdown",
   "metadata": {},
   "source": [
    "### Connect to your GIS\n",
    "As a first step, you would need to establish a connection to your organization which could be an ArcGIS Online organization or an ArcGIS Enterprise."
   ]
  },
  {
   "cell_type": "code",
   "execution_count": 1,
   "metadata": {},
   "outputs": [
    {
     "name": "stdout",
     "output_type": "stream",
     "text": [
      "Enter password: ········\n"
     ]
    }
   ],
   "source": [
    "from IPython.display import HTML\n",
    "import pandas as pd\n",
    "from arcgis.gis import GIS\n",
    "\n",
    "#connect to your GIS\n",
    "my_gis = GIS('https://localgovne.maps.arcgis.com', 'patrick.hammons.tugis')"
   ]
  },
  {
   "cell_type": "markdown",
   "metadata": {},
   "source": [
    "### Create a Network Layer\n",
    "To perform any network analysis (such as finding the closest facility, the best route between multiple stops, or service area around a facility), you would need to create a `NetworkLayer` object. In this sample, since we are solving for closest facilities, we need to create a `ClosestFacilityLayer` which is a type of `NetworkLayer`.\n",
    "\n",
    "To create any `NetworkLayer` object, you would need to provide the URL to the appropriate network analysis service. Hence, in this sample, we provide a `ClosestFacility` URL to create a `ClosestFacilityLayer` object. \n",
    "\n",
    "Since all ArcGIS Online organizations already have access to those routing services, you can access this URL through the `GIS` object's `helperServices` property. If you have your own ArcGIS Server based map service with network analysis capability enabled, you would need to provide the URL for this service.\n",
    "\n",
    "Let us start by importing the `network` module"
   ]
  },
  {
   "cell_type": "code",
   "execution_count": 2,
   "metadata": {
    "collapsed": true
   },
   "outputs": [],
   "source": [
    "import arcgis.network as network"
   ]
  },
  {
   "cell_type": "markdown",
   "metadata": {},
   "source": [
    "Access the analysis URL from the `GIS` object"
   ]
  },
  {
   "cell_type": "code",
   "execution_count": 3,
   "metadata": {},
   "outputs": [
    {
     "data": {
      "text/plain": [
       "'https://route.arcgis.com/arcgis/rest/services/World/ClosestFacility/NAServer/ClosestFacility_World'"
      ]
     },
     "execution_count": 3,
     "metadata": {},
     "output_type": "execute_result"
    }
   ],
   "source": [
    "analysis_url = my_gis.properties.helperServices.closestFacility.url\n",
    "analysis_url"
   ]
  },
  {
   "cell_type": "markdown",
   "metadata": {},
   "source": [
    "Create a `ClosestFacilityLayer` object using this URL"
   ]
  },
  {
   "cell_type": "code",
   "execution_count": 4,
   "metadata": {
    "collapsed": true
   },
   "outputs": [],
   "source": [
    "cf_layer = network.ClosestFacilityLayer(analysis_url, gis=my_gis)"
   ]
  },
  {
   "cell_type": "markdown",
   "metadata": {},
   "source": [
    "### Create hospitals layer\n",
    "In this sample, we will be looking for the closest hospital (facility) to an incident location. Even though we are interested in finding out the closest one, it would still be helpful to get the information on the distance and travel time to all of them for reference purposes.\n",
    "\n",
    "In the code below, we need to geocode the hospitals' addresses as well as do the reverse geocode for the incident location which has been supplied in the latitude/longitude format.\n",
    "\n",
    "To perform the geocode operations, we import the `geocoding` module of the ArcGIS API."
   ]
  },
  {
   "cell_type": "code",
   "execution_count": 5,
   "metadata": {
    "collapsed": true
   },
   "outputs": [],
   "source": [
    "from arcgis import geocoding"
   ]
  },
  {
   "cell_type": "markdown",
   "metadata": {},
   "source": [
    "In this sample, we geocode addresses of hospitals to create the facility layer. In your workflows, this could any feature layer. Create a list of hospitals in Rio de Janeiro, Brazil."
   ]
  },
  {
   "cell_type": "code",
   "execution_count": 6,
   "metadata": {
    "collapsed": true,
    "scrolled": true
   },
   "outputs": [],
   "source": [
    "hospitals_addresses = ['Estrada Adhemar Bebiano, 339 Del Castilho, Rio de Janeiro RJ, 21051-370, Brazil',\n",
    "                       'R. José dos Reis Engenho de Dentro, Rio de Janeiro RJ, 20750-000, Brazil',\n",
    "                       'R. Dezessete, s/n Maré, Rio de Janeiro RJ, 21042-010, Brazil',\n",
    "                       'Rua Dr. Miguel Vieira Ferreira, 266 Ramos, Rio de Janeiro RJ, Brazil']"
   ]
  },
  {
   "cell_type": "markdown",
   "metadata": {},
   "source": [
    "Loop through each address and geocode it. The geocode operation returns a list of matches for each address. We pick the first result and extract the coordinates from it and construct a `Feature` object out of it. Then we combine all the `Feature`s representing the hospitals into a `FeatureSet` object."
   ]
  },
  {
   "cell_type": "code",
   "execution_count": 7,
   "metadata": {
    "collapsed": true
   },
   "outputs": [],
   "source": [
    "from arcgis.features import Feature, FeatureSet"
   ]
  },
  {
   "cell_type": "code",
   "execution_count": 8,
   "metadata": {
    "collapsed": true
   },
   "outputs": [],
   "source": [
    "hosp_feat_list = []\n",
    "\n",
    "for address in hospitals_addresses:\n",
    "    hit = geocoding.geocode(address)[0]\n",
    "    hosp_feat = Feature(geometry=hit['location'], attributes=hit['attributes'])\n",
    "\n",
    "    hosp_feat_list.append(hosp_feat)"
   ]
  },
  {
   "cell_type": "code",
   "execution_count": 9,
   "metadata": {},
   "outputs": [
    {
     "data": {
      "text/plain": [
       "[{\"geometry\": {\"x\": -43.26597372422451, \"y\": -22.874822503604097}, \"attributes\": {\"Loc_name\": \"World\", \"Status\": \"M\", \"Score\": 98.52, \"Match_addr\": \"Estrada Adhemar Bebiano 339, Del Castilho, Rio de Janeiro, 21051-070\", \"LongLabel\": \"Estrada Adhemar Bebiano 339, Del Castilho, Rio de Janeiro, 21051-070, BRA\", \"ShortLabel\": \"Estrada Adhemar Bebiano 339\", \"Addr_type\": \"StreetAddressExt\", \"Type\": \"\", \"PlaceName\": \"\", \"Place_addr\": \"Estrada Adhemar Bebiano 339, Del Castilho, Rio de Janeiro, 21051-070\", \"Phone\": \"\", \"URL\": \"\", \"Rank\": 20, \"AddBldg\": \"\", \"AddNum\": \"339\", \"AddNumFrom\": \"257\", \"AddNumTo\": \"257\", \"AddRange\": \"257-257\", \"Side\": \"L\", \"StPreDir\": \"\", \"StPreType\": \"Estrada\", \"StName\": \"Adhemar Bebiano\", \"StType\": \"\", \"StDir\": \"\", \"BldgType\": \"\", \"BldgName\": \"\", \"LevelType\": \"\", \"LevelName\": \"\", \"UnitType\": \"\", \"UnitName\": \"\", \"SubAddr\": \"\", \"StAddr\": \"Estrada Adhemar Bebiano 339\", \"Block\": \"\", \"Sector\": \"\", \"Nbrhd\": \"\", \"District\": \"Del Castilho\", \"City\": \"Rio de Janeiro\", \"MetroArea\": \"\", \"Subregion\": \"\", \"Region\": \"Rio de Janeiro\", \"RegionAbbr\": \"\", \"Territory\": \"Sudeste\", \"Zone\": \"\", \"Postal\": \"21051-070\", \"PostalExt\": \"070\", \"Country\": \"BRA\", \"LangCode\": \"POR\", \"Distance\": 0, \"X\": -43.26597372422451, \"Y\": -22.874822503604097, \"DisplayX\": -43.26597372422451, \"DisplayY\": -22.874822503604097, \"Xmin\": -43.266973724224506, \"Xmax\": -43.26497372422451, \"Ymin\": -22.8758225036041, \"Ymax\": -22.873822503604096, \"ExInfo\": \"370\"}},\n",
       " {\"geometry\": {\"x\": -43.29975499999992, \"y\": -22.882142999999946}, \"attributes\": {\"Loc_name\": \"World\", \"Status\": \"M\", \"Score\": 90, \"Match_addr\": \"20750-000\", \"LongLabel\": \"20750-000, BRA\", \"ShortLabel\": \"20750-000\", \"Addr_type\": \"PostalExt\", \"Type\": \"\", \"PlaceName\": \"20750\", \"Place_addr\": \"Rio de Janeiro, 20750-000\", \"Phone\": \"\", \"URL\": \"\", \"Rank\": 5, \"AddBldg\": \"\", \"AddNum\": \"\", \"AddNumFrom\": \"\", \"AddNumTo\": \"\", \"AddRange\": \"\", \"Side\": \"\", \"StPreDir\": \"\", \"StPreType\": \"\", \"StName\": \"\", \"StType\": \"\", \"StDir\": \"\", \"BldgType\": \"\", \"BldgName\": \"\", \"LevelType\": \"\", \"LevelName\": \"\", \"UnitType\": \"\", \"UnitName\": \"\", \"SubAddr\": \"\", \"StAddr\": \"\", \"Block\": \"\", \"Sector\": \"\", \"Nbrhd\": \"\", \"District\": \"\", \"City\": \"Rio de Janeiro\", \"MetroArea\": \"\", \"Subregion\": \"\", \"Region\": \"Rio de Janeiro\", \"RegionAbbr\": \"\", \"Territory\": \"Sudeste\", \"Zone\": \"\", \"Postal\": \"20750-000\", \"PostalExt\": \"000\", \"Country\": \"BRA\", \"LangCode\": \"POR\", \"Distance\": 0, \"X\": -43.29975499999992, \"Y\": -22.882142999999946, \"DisplayX\": -43.29975499999992, \"DisplayY\": -22.882142999999946, \"Xmin\": -43.30875499999992, \"Xmax\": -43.29075499999992, \"Ymin\": -22.891142999999946, \"Ymax\": -22.873142999999946, \"ExInfo\": \"R JOSE DOS REIS ENGENHO DE DENTRO\"}},\n",
       " {\"geometry\": {\"x\": -43.245623148460226, \"y\": -22.85900605929586}, \"attributes\": {\"Loc_name\": \"World\", \"Status\": \"M\", \"Score\": 89.59, \"Match_addr\": \"Rua Dezessete de Fevereiro, Mar\\u00e9, Rio de Janeiro, 21042-760\", \"LongLabel\": \"Rua Dezessete de Fevereiro, Mar\\u00e9, Rio de Janeiro, 21042-760, BRA\", \"ShortLabel\": \"Rua Dezessete de Fevereiro\", \"Addr_type\": \"StreetName\", \"Type\": \"\", \"PlaceName\": \"\", \"Place_addr\": \"Rua Dezessete de Fevereiro, Mar\\u00e9, Rio de Janeiro, 21042-760\", \"Phone\": \"\", \"URL\": \"\", \"Rank\": 20, \"AddBldg\": \"\", \"AddNum\": \"\", \"AddNumFrom\": \"\", \"AddNumTo\": \"\", \"AddRange\": \"\", \"Side\": \"\", \"StPreDir\": \"\", \"StPreType\": \"Rua\", \"StName\": \"Dezessete de Fevereiro\", \"StType\": \"\", \"StDir\": \"\", \"BldgType\": \"\", \"BldgName\": \"\", \"LevelType\": \"\", \"LevelName\": \"\", \"UnitType\": \"\", \"UnitName\": \"\", \"SubAddr\": \"\", \"StAddr\": \"Rua Dezessete de Fevereiro\", \"Block\": \"\", \"Sector\": \"\", \"Nbrhd\": \"Bonsucesso\", \"District\": \"Mar\\u00e9\", \"City\": \"Rio de Janeiro\", \"MetroArea\": \"\", \"Subregion\": \"\", \"Region\": \"Rio de Janeiro\", \"RegionAbbr\": \"\", \"Territory\": \"Sudeste\", \"Zone\": \"\", \"Postal\": \"21042-760\", \"PostalExt\": \"760\", \"Country\": \"BRA\", \"LangCode\": \"POR\", \"Distance\": 0, \"X\": -43.245623148460226, \"Y\": -22.85900605929586, \"DisplayX\": -43.245623148460226, \"DisplayY\": -22.85900605929586, \"Xmin\": -43.24662314846022, \"Xmax\": -43.24462314846023, \"Ymin\": -22.860006059295863, \"Ymax\": -22.85800605929586, \"ExInfo\": \"S N\"}},\n",
       " {\"geometry\": {\"x\": -43.2623170417796, \"y\": -22.85534553289282}, \"attributes\": {\"Loc_name\": \"World\", \"Status\": \"M\", \"Score\": 100, \"Match_addr\": \"Rua Doutor Miguel Vieira Ferreira 266, Ramos, Rio de Janeiro, 21060-090\", \"LongLabel\": \"Rua Doutor Miguel Vieira Ferreira 266, Ramos, Rio de Janeiro, 21060-090, BRA\", \"ShortLabel\": \"Rua Doutor Miguel Vieira Ferreira 266\", \"Addr_type\": \"PointAddress\", \"Type\": \"\", \"PlaceName\": \"\", \"Place_addr\": \"Rua Doutor Miguel Vieira Ferreira 266, Ramos, Rio de Janeiro, 21060-090\", \"Phone\": \"\", \"URL\": \"\", \"Rank\": 20, \"AddBldg\": \"\", \"AddNum\": \"266\", \"AddNumFrom\": \"\", \"AddNumTo\": \"\", \"AddRange\": \"\", \"Side\": \"L\", \"StPreDir\": \"\", \"StPreType\": \"Rua\", \"StName\": \"Doutor Miguel Vieira Ferreira\", \"StType\": \"\", \"StDir\": \"\", \"BldgType\": \"\", \"BldgName\": \"\", \"LevelType\": \"\", \"LevelName\": \"\", \"UnitType\": \"\", \"UnitName\": \"\", \"SubAddr\": \"\", \"StAddr\": \"Rua Doutor Miguel Vieira Ferreira 266\", \"Block\": \"\", \"Sector\": \"\", \"Nbrhd\": \"\", \"District\": \"Ramos\", \"City\": \"Rio de Janeiro\", \"MetroArea\": \"\", \"Subregion\": \"\", \"Region\": \"Rio de Janeiro\", \"RegionAbbr\": \"\", \"Territory\": \"Sudeste\", \"Zone\": \"\", \"Postal\": \"21060-090\", \"PostalExt\": \"090\", \"Country\": \"BRA\", \"LangCode\": \"POR\", \"Distance\": 0, \"X\": -43.2623170417796, \"Y\": -22.85534553289282, \"DisplayX\": -43.26241049999999, \"DisplayY\": -22.855383000000003, \"Xmin\": -43.263410499999985, \"Xmax\": -43.26141049999999, \"Ymin\": -22.856383000000005, \"Ymax\": -22.854383000000002, \"ExInfo\": \"\"}}]"
      ]
     },
     "execution_count": 9,
     "metadata": {},
     "output_type": "execute_result"
    }
   ],
   "source": [
    "hosp_feat_list"
   ]
  },
  {
   "cell_type": "markdown",
   "metadata": {},
   "source": [
    "Construct a `FeatureSet` using each hospital `Feature`."
   ]
  },
  {
   "cell_type": "code",
   "execution_count": 10,
   "metadata": {
    "collapsed": true
   },
   "outputs": [],
   "source": [
    "hospitals_fset = FeatureSet(features=hosp_feat_list, \n",
    "                            geometry_type='esriGeometryPoint', \n",
    "                            spatial_reference={'latestWkid': 4326})"
   ]
  },
  {
   "cell_type": "code",
   "execution_count": 11,
   "metadata": {},
   "outputs": [
    {
     "data": {
      "text/plain": [
       "<FeatureSet> 4 features"
      ]
     },
     "execution_count": 11,
     "metadata": {},
     "output_type": "execute_result"
    }
   ],
   "source": [
    "hospitals_fset"
   ]
  },
  {
   "cell_type": "markdown",
   "metadata": {},
   "source": [
    "Lets draw our hospitals on a map"
   ]
  },
  {
   "cell_type": "code",
   "execution_count": 12,
   "metadata": {},
   "outputs": [
    {
     "data": {
      "application/vnd.jupyter.widget-view+json": {
       "model_id": "6741fb9e85e04e8f91f7e5ac37e25a63"
      }
     },
     "metadata": {},
     "output_type": "display_data"
    }
   ],
   "source": [
    "map1 = my_gis.map('Rio de Janeiro, Brazil')\n",
    "map1"
   ]
  },
  {
   "cell_type": "code",
   "execution_count": 13,
   "metadata": {
    "collapsed": true
   },
   "outputs": [],
   "source": [
    "map1.draw(hospitals_fset, symbol={\"type\": \"esriSMS\",\"style\": \"esriSMSSquare\",\n",
    "                                  \"color\": [76,115,0,255],\"size\": 8,})"
   ]
  },
  {
   "cell_type": "markdown",
   "metadata": {},
   "source": [
    "### Create incidents layer\n",
    "Similarly, let us create the incient layer"
   ]
  },
  {
   "cell_type": "code",
   "execution_count": 14,
   "metadata": {
    "collapsed": true
   },
   "outputs": [],
   "source": [
    "incident_coords = '-43.281206,-22.865676'\n",
    "reverse_geocode = geocoding.reverse_geocode({\"x\": incident_coords.split(',')[0], \n",
    "                                              \"y\": incident_coords.split(',')[1]})\n",
    "\n",
    "incident_feature = Feature(geometry=reverse_geocode['location'], \n",
    "                           attributes=reverse_geocode['address'])"
   ]
  },
  {
   "cell_type": "code",
   "execution_count": 15,
   "metadata": {
    "collapsed": true
   },
   "outputs": [],
   "source": [
    "incident_fset = FeatureSet([incident_feature], geometry_type='esriGeometryPoint',\n",
    "                          spatial_reference={'latestWkid': 4326})"
   ]
  },
  {
   "cell_type": "markdown",
   "metadata": {},
   "source": [
    "Let us add the incident to the map"
   ]
  },
  {
   "cell_type": "code",
   "execution_count": 16,
   "metadata": {
    "collapsed": true
   },
   "outputs": [],
   "source": [
    "map1.draw(incident_fset, symbol={\"type\": \"esriSMS\",\"style\": \"esriSMSCircle\",\"size\": 8})"
   ]
  },
  {
   "cell_type": "markdown",
   "metadata": {},
   "source": [
    "## Solve for closest hospital\n",
    "By default the closest facility service would return only the closest location, so we need to specify explicitly the `default_target_facility_count` parameter as well as `return_facilities`.\n"
   ]
  },
  {
   "cell_type": "code",
   "execution_count": 17,
   "metadata": {
    "collapsed": true
   },
   "outputs": [],
   "source": [
    "result = cf_layer.solve_closest_facility(incidents=incident_fset,\n",
    "                                        facilities=hospitals_fset,\n",
    "                                        default_target_facility_count=4,\n",
    "                                        return_facilities=True,\n",
    "                                        impedance_attribute_name='TravelTime',\n",
    "                                        accumulate_attribute_names=['Kilometers','TravelTime'])"
   ]
  },
  {
   "cell_type": "markdown",
   "metadata": {},
   "source": [
    "Let us inspect the result dictionary"
   ]
  },
  {
   "cell_type": "code",
   "execution_count": 18,
   "metadata": {},
   "outputs": [
    {
     "data": {
      "text/plain": [
       "dict_keys(['messages', 'routes', 'facilities'])"
      ]
     },
     "execution_count": 18,
     "metadata": {},
     "output_type": "execute_result"
    }
   ],
   "source": [
    "result.keys()"
   ]
  },
  {
   "cell_type": "markdown",
   "metadata": {},
   "source": [
    "Let us use the `routes` dictionary to construct line features out of the routes to display on the map"
   ]
  },
  {
   "cell_type": "code",
   "execution_count": 19,
   "metadata": {},
   "outputs": [
    {
     "data": {
      "text/plain": [
       "dict_keys(['fieldAliases', 'geometryType', 'spatialReference', 'features'])"
      ]
     },
     "execution_count": 19,
     "metadata": {},
     "output_type": "execute_result"
    }
   ],
   "source": [
    "result['routes'].keys()"
   ]
  },
  {
   "cell_type": "code",
   "execution_count": 20,
   "metadata": {},
   "outputs": [
    {
     "data": {
      "text/plain": [
       "dict_keys(['attributes', 'geometry'])"
      ]
     },
     "execution_count": 20,
     "metadata": {},
     "output_type": "execute_result"
    }
   ],
   "source": [
    "result['routes']['features'][0].keys()"
   ]
  },
  {
   "cell_type": "markdown",
   "metadata": {},
   "source": [
    "Construct line features out of the routes that are returned."
   ]
  },
  {
   "cell_type": "code",
   "execution_count": 20,
   "metadata": {
    "collapsed": true
   },
   "outputs": [],
   "source": [
    "line_feat_list = []\n",
    "for line_dict in result['routes']['features']:\n",
    "    f1 = Feature(line_dict['geometry'], line_dict['attributes'])\n",
    "    line_feat_list.append(f1)"
   ]
  },
  {
   "cell_type": "code",
   "execution_count": 21,
   "metadata": {},
   "outputs": [
    {
     "data": {
      "text/plain": [
       "[{\"geometry\": {\"paths\": [[[-43.28124189499994, -22.865707432999955], [-43.28052999999994, -22.86651999999998], [-43.28114999999997, -22.867489999999975], [-43.28123999999997, -22.868509999999958], [-43.28147999999993, -22.86880999999994], [-43.28165999999993, -22.86898999999994], [-43.28177999999997, -22.869039999999927], [-43.281879999999944, -22.869119999999953], [-43.282839999999965, -22.86985999999996], [-43.28200999999996, -22.871239999999943], [-43.28243999999995, -22.871489999999937], [-43.282959999999946, -22.87185999999997], [-43.28203999999994, -22.87302999999997], [-43.28190999999998, -22.873219999999947], [-43.28180999999995, -22.873369999999966], [-43.281709999999975, -22.873309999999947], [-43.28072999999995, -22.872819999999933], [-43.28060999999997, -22.872739999999965], [-43.280039999999985, -22.87334999999996], [-43.279249999999934, -22.87349999999998], [-43.278959999999984, -22.873549999999966], [-43.27860999999996, -22.873719999999935], [-43.277619999999956, -22.874209999999948], [-43.27703999999994, -22.87415999999996], [-43.276299999999935, -22.873869999999954], [-43.27523999999994, -22.873089999999934], [-43.273409999999956, -22.871899999999982], [-43.27296999999993, -22.87167999999997], [-43.27207999999996, -22.871569999999963], [-43.27037999999993, -22.87144999999998], [-43.27022999999997, -22.871489999999937], [-43.268839999999955, -22.87220999999994], [-43.26816999999994, -22.872789999999952], [-43.267619999999965, -22.873099999999965], [-43.267529999999965, -22.873149999999953], [-43.267439999999965, -22.873219999999947], [-43.26726999999994, -22.87343999999996], [-43.267019999999945, -22.87388999999996], [-43.26670999999993, -22.87415999999996], [-43.26592999999997, -22.874739999999974], [-43.265912525999966, -22.874806398999965]]]}, \"attributes\": {\"ObjectID\": 1, \"FacilityID\": 1, \"FacilityRank\": 1, \"Name\": \"Rua Tangapeme 36 - Location 1\", \"IncidentCurbApproach\": 2, \"FacilityCurbApproach\": 1, \"IncidentID\": 1, \"Total_TravelTime\": 7.664818052777975, \"Total_Kilometers\": 3.0163781426947125, \"Total_Miles\": 1.8742904827648488, \"Shape_Length\": 0.028461292683015605}},\n",
       " {\"geometry\": {\"paths\": [[[-43.28124189499994, -22.865707432999955], [-43.28052999999994, -22.86651999999998], [-43.28114999999997, -22.867489999999975], [-43.28123999999997, -22.868509999999958], [-43.28147999999993, -22.86880999999994], [-43.28165999999993, -22.86898999999994], [-43.28177999999997, -22.869039999999927], [-43.281879999999944, -22.869119999999953], [-43.282839999999965, -22.86985999999996], [-43.28200999999996, -22.871239999999943], [-43.28243999999995, -22.871489999999937], [-43.282959999999946, -22.87185999999997], [-43.28203999999994, -22.87302999999997], [-43.28190999999998, -22.873219999999947], [-43.28180999999995, -22.873369999999966], [-43.281709999999975, -22.873309999999947], [-43.28072999999995, -22.872819999999933], [-43.28060999999997, -22.872739999999965], [-43.280039999999985, -22.87334999999996], [-43.279249999999934, -22.87349999999998], [-43.278959999999984, -22.873549999999966], [-43.27860999999996, -22.873719999999935], [-43.277619999999956, -22.874209999999948], [-43.27703999999994, -22.87415999999996], [-43.276299999999935, -22.873869999999954], [-43.277259999999956, -22.872539999999958], [-43.27663999999993, -22.871419999999944], [-43.27661999999998, -22.87134999999995], [-43.27651999999995, -22.87101999999993], [-43.27613999999994, -22.869819999999947], [-43.27565999999996, -22.86922999999996], [-43.27523999999994, -22.86886999999996], [-43.27490999999998, -22.868559999999945], [-43.274359999999945, -22.868049999999982], [-43.27385999999996, -22.867759999999976], [-43.27257999999995, -22.867369999999937], [-43.27169999999995, -22.867119999999943], [-43.270239999999944, -22.867099999999937], [-43.26993999999996, -22.86719999999997], [-43.26985999999994, -22.86723999999998], [-43.26975999999996, -22.867159999999956], [-43.26965999999993, -22.866839999999968], [-43.26921999999996, -22.866299999999967], [-43.268989999999974, -22.865639999999928], [-43.26884999999993, -22.864989999999977], [-43.26881999999995, -22.864559999999983], [-43.26870999999994, -22.863959999999963], [-43.26802999999995, -22.86283999999995], [-43.267859999999985, -22.86194999999998], [-43.26773999999995, -22.861069999999927], [-43.26772999999997, -22.860959999999977], [-43.267609999999934, -22.86021999999997], [-43.26738999999998, -22.859599999999944], [-43.26747999999998, -22.857929999999953], [-43.26715999999993, -22.857109999999977], [-43.26703999999995, -22.856879999999933], [-43.26696999999996, -22.856749999999977], [-43.26659999999998, -22.856499999999983], [-43.26258999999993, -22.85469999999998], [-43.261589999999956, -22.854209999999966], [-43.26129999999995, -22.85403999999994], [-43.261049999999955, -22.85418999999996], [-43.260449999999935, -22.854859999999974], [-43.26065999999997, -22.854949999999974], [-43.26192999999995, -22.855549999999937], [-43.26214999999996, -22.85564999999997], [-43.26223999999996, -22.85543999999993], [-43.26229059599996, -22.855333024999936]]]}, \"attributes\": {\"ObjectID\": 2, \"FacilityID\": 4, \"FacilityRank\": 2, \"Name\": \"Rua Tangapeme 36 - Location 4\", \"IncidentCurbApproach\": 2, \"FacilityCurbApproach\": 2, \"IncidentID\": 1, \"Total_TravelTime\": 12.57987532299583, \"Total_Kilometers\": 5.224940629835127, \"Total_Miles\": 3.2466275885299387, \"Shape_Length\": 0.04883103880426707}},\n",
       " {\"geometry\": {\"paths\": [[[-43.28124189499994, -22.865707432999955], [-43.28052999999994, -22.86651999999998], [-43.28114999999997, -22.867489999999975], [-43.28123999999997, -22.868509999999958], [-43.28147999999993, -22.86880999999994], [-43.28165999999993, -22.86898999999994], [-43.28177999999997, -22.869039999999927], [-43.281879999999944, -22.869119999999953], [-43.282839999999965, -22.86985999999996], [-43.28200999999996, -22.871239999999943], [-43.28243999999995, -22.871489999999937], [-43.282959999999946, -22.87185999999997], [-43.28203999999994, -22.87302999999997], [-43.28190999999998, -22.873219999999947], [-43.28180999999995, -22.873369999999966], [-43.281709999999975, -22.873309999999947], [-43.28072999999995, -22.872819999999933], [-43.28060999999997, -22.872739999999965], [-43.280039999999985, -22.87334999999996], [-43.279249999999934, -22.87349999999998], [-43.278959999999984, -22.873549999999966], [-43.27860999999996, -22.873719999999935], [-43.277619999999956, -22.874209999999948], [-43.27703999999994, -22.87415999999996], [-43.276299999999935, -22.873869999999954], [-43.27523999999994, -22.873089999999934], [-43.273409999999956, -22.871899999999982], [-43.27296999999993, -22.87167999999997], [-43.27207999999996, -22.871569999999963], [-43.27037999999993, -22.87144999999998], [-43.27022999999997, -22.871489999999937], [-43.268839999999955, -22.87220999999994], [-43.26816999999994, -22.872789999999952], [-43.267619999999965, -22.873099999999965], [-43.267529999999965, -22.873149999999953], [-43.267439999999965, -22.873219999999947], [-43.267319999999984, -22.87310999999994], [-43.26702999999998, -22.872889999999927], [-43.26608999999996, -22.87239999999997], [-43.26487999999995, -22.871999999999957], [-43.26417999999995, -22.871789999999976], [-43.26317999999998, -22.871749999999963], [-43.26233999999994, -22.871689999999944], [-43.25941999999998, -22.871459999999956], [-43.25827999999996, -22.87149999999997], [-43.25443999999993, -22.872009999999932], [-43.25395999999995, -22.872049999999945], [-43.25382999999994, -22.87206999999995], [-43.25375999999994, -22.872079999999983], [-43.253589999999974, -22.872089999999957], [-43.25242999999995, -22.872229999999945], [-43.25094999999993, -22.872279999999932], [-43.24990999999994, -22.872099999999932], [-43.24852999999996, -22.871869999999944], [-43.24838999999997, -22.871849999999938], [-43.24825999999996, -22.87182999999993], [-43.24792999999994, -22.871779999999944], [-43.24688999999995, -22.87137999999993], [-43.246459999999956, -22.871149999999943], [-43.246419999999944, -22.871129999999937], [-43.24637999999993, -22.87110999999993], [-43.24626999999998, -22.87104999999997], [-43.24608999999998, -22.870949999999937], [-43.24553999999995, -22.870649999999955], [-43.24526999999995, -22.87056999999993], [-43.24507999999997, -22.87057999999996], [-43.244929999999954, -22.870779999999968], [-43.24500999999998, -22.871479999999963], [-43.245319999999936, -22.871629999999982], [-43.245529999999974, -22.87137999999993], [-43.24526999999995, -22.87056999999993], [-43.24524999999994, -22.869969999999967], [-43.24575999999996, -22.869719999999973], [-43.24648999999994, -22.869609999999966], [-43.24692999999996, -22.869199999999978], [-43.24718999999993, -22.86818999999997], [-43.24747999999994, -22.866049999999973], [-43.24771999999996, -22.864669999999933], [-43.24774999999994, -22.864289999999983], [-43.247739999999965, -22.863879999999938], [-43.24763999999993, -22.860719999999958], [-43.247649999999965, -22.860559999999964], [-43.247589999999946, -22.858699999999942], [-43.24685999999997, -22.858799999999974], [-43.24607999999995, -22.858919999999955], [-43.24562199199994, -22.858999387999972]]]}, \"attributes\": {\"ObjectID\": 3, \"FacilityID\": 3, \"FacilityRank\": 3, \"Name\": \"Rua Tangapeme 36 - Location 3\", \"IncidentCurbApproach\": 2, \"FacilityCurbApproach\": 1, \"IncidentID\": 1, \"Total_TravelTime\": 14.348580385495637, \"Total_Kilometers\": 7.075700186541523, \"Total_Miles\": 4.396636260825231, \"Shape_Length\": 0.06683310958981657}},\n",
       " {\"geometry\": {\"paths\": [[[-43.28124189499994, -22.865707432999955], [-43.28052999999994, -22.86651999999998], [-43.28114999999997, -22.867489999999975], [-43.28123999999997, -22.868509999999958], [-43.28147999999993, -22.86880999999994], [-43.28165999999993, -22.86898999999994], [-43.28177999999997, -22.869039999999927], [-43.281879999999944, -22.869119999999953], [-43.282839999999965, -22.86985999999996], [-43.28200999999996, -22.871239999999943], [-43.28243999999995, -22.871489999999937], [-43.282959999999946, -22.87185999999997], [-43.28203999999994, -22.87302999999997], [-43.28190999999998, -22.873219999999947], [-43.28180999999995, -22.873369999999966], [-43.281709999999975, -22.873309999999947], [-43.28072999999995, -22.872819999999933], [-43.28060999999997, -22.872739999999965], [-43.280039999999985, -22.87334999999996], [-43.279249999999934, -22.87349999999998], [-43.278959999999984, -22.873549999999966], [-43.27860999999996, -22.873719999999935], [-43.277619999999956, -22.874209999999948], [-43.27703999999994, -22.87415999999996], [-43.276299999999935, -22.873869999999954], [-43.27523999999994, -22.873089999999934], [-43.273409999999956, -22.871899999999982], [-43.27296999999993, -22.87167999999997], [-43.27207999999996, -22.871569999999963], [-43.27037999999993, -22.87144999999998], [-43.27022999999997, -22.871489999999937], [-43.268839999999955, -22.87220999999994], [-43.26816999999994, -22.872789999999952], [-43.267619999999965, -22.873099999999965], [-43.267529999999965, -22.873149999999953], [-43.26744999999994, -22.872999999999934], [-43.267879999999934, -22.872619999999927], [-43.268069999999966, -22.872349999999983], [-43.268149999999935, -22.871909999999957], [-43.268039999999985, -22.871609999999976], [-43.26781999999997, -22.87152999999995], [-43.26660999999996, -22.871719999999982], [-43.266399999999976, -22.872079999999983], [-43.26658999999995, -22.872329999999977], [-43.267609999999934, -22.872869999999978], [-43.267799999999966, -22.87298999999996], [-43.27111999999994, -22.874809999999968], [-43.27129999999994, -22.874909999999943], [-43.272239999999954, -22.87534999999997], [-43.27247999999997, -22.875449999999944], [-43.273289999999974, -22.875659999999982], [-43.27338999999995, -22.875689999999963], [-43.27348999999998, -22.87570999999997], [-43.27530999999993, -22.876179999999977], [-43.27574999999996, -22.876379999999983], [-43.27583999999996, -22.87642999999997], [-43.27597999999995, -22.87651999999997], [-43.27601999999996, -22.876549999999952], [-43.276089999999954, -22.87659999999994], [-43.27616999999998, -22.876649999999927], [-43.27648999999997, -22.876899999999978], [-43.276629999999955, -22.87701999999996], [-43.27723999999995, -22.87785999999994], [-43.27729999999997, -22.877939999999967], [-43.277349999999956, -22.87800999999996], [-43.27815999999996, -22.87905999999998], [-43.27975999999995, -22.88017999999994], [-43.28001999999998, -22.880329999999958], [-43.28018999999995, -22.88041999999996], [-43.28097999999994, -22.880829999999946], [-43.28198999999995, -22.881179999999972], [-43.28386999999998, -22.88182999999998], [-43.28424999999993, -22.88194999999996], [-43.285229999999956, -22.881989999999973], [-43.28583999999995, -22.88179999999994], [-43.28588999999994, -22.881779999999935], [-43.28656999999998, -22.881449999999973], [-43.28685999999993, -22.881339999999966], [-43.28851999999995, -22.88063999999997], [-43.28908999999993, -22.880569999999977], [-43.289769999999976, -22.880769999999927], [-43.29054999999994, -22.88149999999996], [-43.290899999999965, -22.88185999999996], [-43.29154999999997, -22.88245999999998], [-43.291679999999985, -22.882529999999974], [-43.291769999999985, -22.88256999999993], [-43.291859999999986, -22.882609999999943], [-43.29227999999995, -22.882619999999974], [-43.292569999999955, -22.882339999999942], [-43.29345999999998, -22.881459999999947], [-43.29404999999997, -22.88152999999994], [-43.29485999999997, -22.88182999999998], [-43.295879999999954, -22.882599999999968], [-43.29679999999996, -22.883429999999976], [-43.29705999999993, -22.88322999999997], [-43.29762999999997, -22.882239999999967], [-43.29851999999994, -22.88263999999998], [-43.29938999999996, -22.88301999999993], [-43.29969999999997, -22.88226999999995], [-43.29975018199997, -22.88214112399993]]]}, \"attributes\": {\"ObjectID\": 4, \"FacilityID\": 2, \"FacilityRank\": 4, \"Name\": \"Rua Tangapeme 36 - Location 2\", \"IncidentCurbApproach\": 2, \"FacilityCurbApproach\": 2, \"IncidentID\": 1, \"Total_TravelTime\": 14.734713678589072, \"Total_Kilometers\": 7.350177730549624, \"Total_Miles\": 4.56718869958792, \"Shape_Length\": 0.06965986343203653}}]"
      ]
     },
     "execution_count": 21,
     "metadata": {},
     "output_type": "execute_result"
    }
   ],
   "source": [
    "line_feat_list"
   ]
  },
  {
   "cell_type": "code",
   "execution_count": 22,
   "metadata": {
    "collapsed": true
   },
   "outputs": [],
   "source": [
    "routes_fset = FeatureSet(line_feat_list, \n",
    "                         geometry_type=result['routes']['geometryType'],\n",
    "                         spatial_reference= result['routes']['spatialReference'])"
   ]
  },
  {
   "cell_type": "markdown",
   "metadata": {},
   "source": [
    "Add the routes back to the map. The route to the closest hospital is in red"
   ]
  },
  {
   "cell_type": "code",
   "execution_count": 23,
   "metadata": {
    "collapsed": true
   },
   "outputs": [],
   "source": [
    "map1.draw(routes_fset)"
   ]
  },
  {
   "cell_type": "markdown",
   "metadata": {},
   "source": [
    "## Analyze the results in a table\n",
    "Since we parsed the routes as a `FeatureSet`, we can display the attributes easily as a `pandas` `DataFrame`."
   ]
  },
  {
   "cell_type": "code",
   "execution_count": 24,
   "metadata": {},
   "outputs": [
    {
     "data": {
      "text/html": [
       "<div>\n",
       "<style scoped>\n",
       "    .dataframe tbody tr th:only-of-type {\n",
       "        vertical-align: middle;\n",
       "    }\n",
       "\n",
       "    .dataframe tbody tr th {\n",
       "        vertical-align: top;\n",
       "    }\n",
       "\n",
       "    .dataframe thead th {\n",
       "        text-align: right;\n",
       "    }\n",
       "</style>\n",
       "<table border=\"1\" class=\"dataframe\">\n",
       "  <thead>\n",
       "    <tr style=\"text-align: right;\">\n",
       "      <th></th>\n",
       "      <th>FacilityCurbApproach</th>\n",
       "      <th>FacilityID</th>\n",
       "      <th>FacilityRank</th>\n",
       "      <th>IncidentCurbApproach</th>\n",
       "      <th>IncidentID</th>\n",
       "      <th>Name</th>\n",
       "      <th>ObjectID</th>\n",
       "      <th>Shape_Length</th>\n",
       "      <th>Total_Kilometers</th>\n",
       "      <th>Total_Miles</th>\n",
       "      <th>Total_TravelTime</th>\n",
       "      <th>SHAPE</th>\n",
       "    </tr>\n",
       "  </thead>\n",
       "  <tbody>\n",
       "    <tr>\n",
       "      <th>0</th>\n",
       "      <td>1</td>\n",
       "      <td>1</td>\n",
       "      <td>1</td>\n",
       "      <td>2</td>\n",
       "      <td>1</td>\n",
       "      <td>Rua Tangapeme 36 - Location 1</td>\n",
       "      <td>1</td>\n",
       "      <td>0.028461</td>\n",
       "      <td>3.016378</td>\n",
       "      <td>1.874290</td>\n",
       "      <td>7.664818</td>\n",
       "      <td>{'paths': [[[-43.28124189499994, -22.865707432...</td>\n",
       "    </tr>\n",
       "    <tr>\n",
       "      <th>1</th>\n",
       "      <td>2</td>\n",
       "      <td>4</td>\n",
       "      <td>2</td>\n",
       "      <td>2</td>\n",
       "      <td>1</td>\n",
       "      <td>Rua Tangapeme 36 - Location 4</td>\n",
       "      <td>2</td>\n",
       "      <td>0.048831</td>\n",
       "      <td>5.224941</td>\n",
       "      <td>3.246628</td>\n",
       "      <td>12.579875</td>\n",
       "      <td>{'paths': [[[-43.28124189499994, -22.865707432...</td>\n",
       "    </tr>\n",
       "    <tr>\n",
       "      <th>2</th>\n",
       "      <td>1</td>\n",
       "      <td>3</td>\n",
       "      <td>3</td>\n",
       "      <td>2</td>\n",
       "      <td>1</td>\n",
       "      <td>Rua Tangapeme 36 - Location 3</td>\n",
       "      <td>3</td>\n",
       "      <td>0.066833</td>\n",
       "      <td>7.075700</td>\n",
       "      <td>4.396636</td>\n",
       "      <td>14.348580</td>\n",
       "      <td>{'paths': [[[-43.28124189499994, -22.865707432...</td>\n",
       "    </tr>\n",
       "    <tr>\n",
       "      <th>3</th>\n",
       "      <td>2</td>\n",
       "      <td>2</td>\n",
       "      <td>4</td>\n",
       "      <td>2</td>\n",
       "      <td>1</td>\n",
       "      <td>Rua Tangapeme 36 - Location 2</td>\n",
       "      <td>4</td>\n",
       "      <td>0.069660</td>\n",
       "      <td>7.350178</td>\n",
       "      <td>4.567189</td>\n",
       "      <td>14.734714</td>\n",
       "      <td>{'paths': [[[-43.28124189499994, -22.865707432...</td>\n",
       "    </tr>\n",
       "  </tbody>\n",
       "</table>\n",
       "</div>"
      ],
      "text/plain": [
       "   FacilityCurbApproach  FacilityID  FacilityRank  IncidentCurbApproach  \\\n",
       "0                     1           1             1                     2   \n",
       "1                     2           4             2                     2   \n",
       "2                     1           3             3                     2   \n",
       "3                     2           2             4                     2   \n",
       "\n",
       "   IncidentID                           Name  ObjectID  Shape_Length  \\\n",
       "0           1  Rua Tangapeme 36 - Location 1         1      0.028461   \n",
       "1           1  Rua Tangapeme 36 - Location 4         2      0.048831   \n",
       "2           1  Rua Tangapeme 36 - Location 3         3      0.066833   \n",
       "3           1  Rua Tangapeme 36 - Location 2         4      0.069660   \n",
       "\n",
       "   Total_Kilometers  Total_Miles  Total_TravelTime  \\\n",
       "0          3.016378     1.874290          7.664818   \n",
       "1          5.224941     3.246628         12.579875   \n",
       "2          7.075700     4.396636         14.348580   \n",
       "3          7.350178     4.567189         14.734714   \n",
       "\n",
       "                                               SHAPE  \n",
       "0  {'paths': [[[-43.28124189499994, -22.865707432...  \n",
       "1  {'paths': [[[-43.28124189499994, -22.865707432...  \n",
       "2  {'paths': [[[-43.28124189499994, -22.865707432...  \n",
       "3  {'paths': [[[-43.28124189499994, -22.865707432...  "
      ]
     },
     "execution_count": 24,
     "metadata": {},
     "output_type": "execute_result"
    }
   ],
   "source": [
    "routes_fset.df"
   ]
  },
  {
   "cell_type": "markdown",
   "metadata": {},
   "source": [
    "Let us add the hospital addresses and incident address to this table and display only the relevant columns"
   ]
  },
  {
   "cell_type": "code",
   "execution_count": 25,
   "metadata": {
    "collapsed": true
   },
   "outputs": [],
   "source": [
    "df1 = routes_fset.df\n",
    "df1['facility_address'] = hospitals_addresses\n",
    "df1['incident_address'] = [incident_feature.attributes['Match_addr'] for i in range(len(hospitals_addresses))]"
   ]
  },
  {
   "cell_type": "code",
   "execution_count": 26,
   "metadata": {},
   "outputs": [
    {
     "data": {
      "text/html": [
       "<div>\n",
       "<style scoped>\n",
       "    .dataframe tbody tr th:only-of-type {\n",
       "        vertical-align: middle;\n",
       "    }\n",
       "\n",
       "    .dataframe tbody tr th {\n",
       "        vertical-align: top;\n",
       "    }\n",
       "\n",
       "    .dataframe thead th {\n",
       "        text-align: right;\n",
       "    }\n",
       "</style>\n",
       "<table border=\"1\" class=\"dataframe\">\n",
       "  <thead>\n",
       "    <tr style=\"text-align: right;\">\n",
       "      <th></th>\n",
       "      <th>facility_address</th>\n",
       "      <th>incident_address</th>\n",
       "      <th>Total_Miles</th>\n",
       "      <th>Total_TravelTime</th>\n",
       "    </tr>\n",
       "  </thead>\n",
       "  <tbody>\n",
       "    <tr>\n",
       "      <th>0</th>\n",
       "      <td>Estrada Adhemar Bebiano, 339 Del Castilho, Rio...</td>\n",
       "      <td>Rua Tangapeme 2-50, Complexo do Alemão, Rio de...</td>\n",
       "      <td>1.874290</td>\n",
       "      <td>7.664818</td>\n",
       "    </tr>\n",
       "    <tr>\n",
       "      <th>1</th>\n",
       "      <td>R. José dos Reis Engenho de Dentro, Rio de Jan...</td>\n",
       "      <td>Rua Tangapeme 2-50, Complexo do Alemão, Rio de...</td>\n",
       "      <td>3.246628</td>\n",
       "      <td>12.579875</td>\n",
       "    </tr>\n",
       "    <tr>\n",
       "      <th>2</th>\n",
       "      <td>R. Dezessete, s/n Maré, Rio de Janeiro RJ, 210...</td>\n",
       "      <td>Rua Tangapeme 2-50, Complexo do Alemão, Rio de...</td>\n",
       "      <td>4.396636</td>\n",
       "      <td>14.348580</td>\n",
       "    </tr>\n",
       "    <tr>\n",
       "      <th>3</th>\n",
       "      <td>Rua Dr. Miguel Vieira Ferreira, 266 Ramos, Rio...</td>\n",
       "      <td>Rua Tangapeme 2-50, Complexo do Alemão, Rio de...</td>\n",
       "      <td>4.567189</td>\n",
       "      <td>14.734714</td>\n",
       "    </tr>\n",
       "  </tbody>\n",
       "</table>\n",
       "</div>"
      ],
      "text/plain": [
       "                                    facility_address  \\\n",
       "0  Estrada Adhemar Bebiano, 339 Del Castilho, Rio...   \n",
       "1  R. José dos Reis Engenho de Dentro, Rio de Jan...   \n",
       "2  R. Dezessete, s/n Maré, Rio de Janeiro RJ, 210...   \n",
       "3  Rua Dr. Miguel Vieira Ferreira, 266 Ramos, Rio...   \n",
       "\n",
       "                                    incident_address  Total_Miles  \\\n",
       "0  Rua Tangapeme 2-50, Complexo do Alemão, Rio de...     1.874290   \n",
       "1  Rua Tangapeme 2-50, Complexo do Alemão, Rio de...     3.246628   \n",
       "2  Rua Tangapeme 2-50, Complexo do Alemão, Rio de...     4.396636   \n",
       "3  Rua Tangapeme 2-50, Complexo do Alemão, Rio de...     4.567189   \n",
       "\n",
       "   Total_TravelTime  \n",
       "0          7.664818  \n",
       "1         12.579875  \n",
       "2         14.348580  \n",
       "3         14.734714  "
      ]
     },
     "execution_count": 26,
     "metadata": {},
     "output_type": "execute_result"
    }
   ],
   "source": [
    "df1[['facility_address','incident_address','Total_Miles','Total_TravelTime']]\n"
   ]
  },
  {
   "cell_type": "markdown",
   "metadata": {},
   "source": [
    "### Conclusion\n",
    "Thus using the `network` module of the ArcGIS API for Python, you can solve for closest facilities from an incident location."
   ]
  }
 ],
 "metadata": {
  "anaconda-cloud": {
   "attach-environment": true,
   "summary": "Analysis",
   "url": "https://anaconda.org/hamhands/finding_hospitals_closest_to_an_incident"
  },
  "kernelspec": {
   "display_name": "Python 3",
   "language": "python",
   "name": "python3"
  },
  "language_info": {
   "codemirror_mode": {
    "name": "ipython",
    "version": 3
   },
   "file_extension": ".py",
   "mimetype": "text/x-python",
   "name": "python",
   "nbconvert_exporter": "python",
   "pygments_lexer": "ipython3",
   "version": "3.6.3"
  }
 },
 "nbformat": 4,
 "nbformat_minor": 2
}
