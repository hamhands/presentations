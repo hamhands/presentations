{
 "cells": [
  {
   "cell_type": "markdown",
   "metadata": {},
   "source": [
    "# Automating administrative workflows"
   ]
  },
  {
   "cell_type": "code",
   "execution_count": 1,
   "metadata": {
    "collapsed": true
   },
   "outputs": [],
   "source": [
    "from arcgis.gis import *"
   ]
  },
  {
   "cell_type": "code",
   "execution_count": 22,
   "metadata": {},
   "outputs": [
    {
     "name": "stdout",
     "output_type": "stream",
     "text": [
      "Enter password: ········\n"
     ]
    }
   ],
   "source": [
    "gis = GIS(\"https://localgovne.maps.arcgis.com\", \"patrick.hammons.tugis\")"
   ]
  },
  {
   "cell_type": "markdown",
   "metadata": {},
   "source": [
    "## Querying for users"
   ]
  },
  {
   "cell_type": "code",
   "execution_count": 3,
   "metadata": {},
   "outputs": [
    {
     "data": {
      "text/plain": [
       "[<User username:adam.ziegler.workshop>,\n",
       " <User username:alex.brown.localgovne>,\n",
       " <User username:insightuser01>,\n",
       " <User username:insightuser02>,\n",
       " <User username:insightuser03>,\n",
       " <User username:insightuser04>,\n",
       " <User username:insightuser05>,\n",
       " <User username:insightuser06>,\n",
       " <User username:insightuser07>,\n",
       " <User username:insightuser08>,\n",
       " <User username:insightuser09>,\n",
       " <User username:insightuser10>,\n",
       " <User username:insightuser11>,\n",
       " <User username:insightuser12>,\n",
       " <User username:insightuser13>,\n",
       " <User username:insightuser14>,\n",
       " <User username:insightuser15>,\n",
       " <User username:insightuser16>,\n",
       " <User username:insightuser17>,\n",
       " <User username:insightuser18>,\n",
       " <User username:insightuser19>,\n",
       " <User username:insightuser20>,\n",
       " <User username:insightuser21>,\n",
       " <User username:insightuser22>,\n",
       " <User username:insightuser23>,\n",
       " <User username:insightuser24>,\n",
       " <User username:insightuser25>,\n",
       " <User username:insightuser26>,\n",
       " <User username:insightuser27>,\n",
       " <User username:insightuser28>,\n",
       " <User username:insightuser29>,\n",
       " <User username:insightuser30>,\n",
       " <User username:insightuser31>,\n",
       " <User username:insightuser32>,\n",
       " <User username:insightuser33>,\n",
       " <User username:insightuser34>,\n",
       " <User username:insightuser35>,\n",
       " <User username:insightuser36>,\n",
       " <User username:insightuser37>,\n",
       " <User username:insightuser38>,\n",
       " <User username:insightuser39>,\n",
       " <User username:insightuser40>,\n",
       " <User username:krithica.kantharaj.tugis>,\n",
       " <User username:mark.scott.localgovne>,\n",
       " <User username:mark.scott.tugis>,\n",
       " <User username:mscott_tugis>,\n",
       " <User username:patrick.hammons.tugis>,\n",
       " <User username:rachel.weeden.tugis>,\n",
       " <User username:tom.schwartzman.localgovne>,\n",
       " <User username:workuser01>,\n",
       " <User username:workuser02>,\n",
       " <User username:workuser03>,\n",
       " <User username:workuser04>,\n",
       " <User username:workuser05>,\n",
       " <User username:workuser06>,\n",
       " <User username:workuser07>,\n",
       " <User username:workuser08>,\n",
       " <User username:workuser09>,\n",
       " <User username:workuser10>,\n",
       " <User username:workuser11>,\n",
       " <User username:workuser12>,\n",
       " <User username:workuser13>,\n",
       " <User username:workuser14>,\n",
       " <User username:workuser20>,\n",
       " <User username:workuser21>,\n",
       " <User username:workuser22>,\n",
       " <User username:workuser23>,\n",
       " <User username:workuser24>,\n",
       " <User username:workuser25>,\n",
       " <User username:workuser26>,\n",
       " <User username:workuser27>,\n",
       " <User username:workuser28>,\n",
       " <User username:workuser29>,\n",
       " <User username:workuser30>,\n",
       " <User username:workuser31>,\n",
       " <User username:workuser32>,\n",
       " <User username:workuser33>,\n",
       " <User username:workuser34>,\n",
       " <User username:workuser35>,\n",
       " <User username:workuser36>,\n",
       " <User username:workuser37>,\n",
       " <User username:workuser38>,\n",
       " <User username:workuser39>,\n",
       " <User username:workuser40>,\n",
       " <User username:workuser43>]"
      ]
     },
     "execution_count": 3,
     "metadata": {},
     "output_type": "execute_result"
    }
   ],
   "source": [
    "gis.users.search()"
   ]
  },
  {
   "cell_type": "code",
   "execution_count": 4,
   "metadata": {},
   "outputs": [
    {
     "data": {
      "text/plain": [
       "[<User username:patrick.hammons.tugis>]"
      ]
     },
     "execution_count": 4,
     "metadata": {},
     "output_type": "execute_result"
    }
   ],
   "source": [
    "#filter users\n",
    "gis.users.search(\"patrick*\")"
   ]
  },
  {
   "cell_type": "code",
   "execution_count": 5,
   "metadata": {},
   "outputs": [
    {
     "data": {
      "text/plain": [
       "[]"
      ]
     },
     "execution_count": 5,
     "metadata": {},
     "output_type": "execute_result"
    }
   ],
   "source": [
    "#filter users\n",
    "gis.users.search(\"jdoe\")"
   ]
  },
  {
   "cell_type": "markdown",
   "metadata": {},
   "source": [
    "### Create a new user"
   ]
  },
  {
   "cell_type": "code",
   "execution_count": 6,
   "metadata": {},
   "outputs": [
    {
     "data": {
      "text/html": [
       "<div class=\"9item_container\" style=\"height: auto; overflow: hidden; border: 1px solid #cfcfcf; border-radius: 2px; background: #f6fafa; line-height: 1.21429em; padding: 10px;\">\n",
       "                    <div class=\"item_left\" style=\"width: 210px; float: left;\">\n",
       "                       <a href='https://localgovne.maps.arcgis.com/home/user.html?user=jdoe' target='_blank'>\n",
       "                        <img src='https://localgovne.maps.arcgis.com/home/js/arcgisonline/css/images/no-user-thumb.jpg' class=\"itemThumbnail\">\n",
       "                       </a>\n",
       "                    </div>\n",
       "\n",
       "                    <div class=\"item_right\" style=\"float: none; width: auto; overflow: hidden;\">\n",
       "                        <a href='https://localgovne.maps.arcgis.com/home/user.html?user=jdoe' target='_blank'><b>John Doe</b>\n",
       "                        </a>\n",
       "                        <br/><br/><b>Bio</b>: None\n",
       "                        <br/><b>First Name</b>: John\n",
       "                        <br/><b>Last Name</b>: Doe\n",
       "                        <br/><b>Username</b>: jdoe\n",
       "                        <br/><b>Joined</b>: March 05, 2018\n",
       "\n",
       "                    </div>\n",
       "                </div>\n",
       "                "
      ],
      "text/plain": [
       "<User username:jdoe>"
      ]
     },
     "execution_count": 6,
     "metadata": {},
     "output_type": "execute_result"
    }
   ],
   "source": [
    "jdoe = gis.users.create(username = 'jdoe', password='whateva4eva', \n",
    "                 firstname='John', lastname='Doe',\n",
    "                 email='jdoe@esri.com', role='org_user')\n",
    "\n",
    "jdoe"
   ]
  },
  {
   "cell_type": "code",
   "execution_count": 7,
   "metadata": {},
   "outputs": [
    {
     "data": {
      "text/plain": [
       "arcgis.gis.User"
      ]
     },
     "execution_count": 7,
     "metadata": {},
     "output_type": "execute_result"
    }
   ],
   "source": [
    "type(jdoe)"
   ]
  },
  {
   "cell_type": "code",
   "execution_count": 8,
   "metadata": {},
   "outputs": [
    {
     "data": {
      "text/plain": [
       "True"
      ]
     },
     "execution_count": 8,
     "metadata": {},
     "output_type": "execute_result"
    }
   ],
   "source": [
    "jdoe.update(thumbnail='jdoe.jpg')"
   ]
  },
  {
   "cell_type": "code",
   "execution_count": 9,
   "metadata": {},
   "outputs": [
    {
     "data": {
      "text/html": [
       "<div class=\"9item_container\" style=\"height: auto; overflow: hidden; border: 1px solid #cfcfcf; border-radius: 2px; background: #f6fafa; line-height: 1.21429em; padding: 10px;\">\n",
       "                    <div class=\"item_left\" style=\"width: 210px; float: left;\">\n",
       "                       <a href='https://neenterprise.esri.com/portal/home/user.html?user=jdoe' target='_blank'>\n",
       "                        <img src='data:image/png;base64,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' width='200' height='133' class=\"itemThumbnail\">\n",
       "                       </a>\n",
       "                    </div>\n",
       "\n",
       "                    <div class=\"item_right\" style=\"float: none; width: auto; overflow: hidden;\">\n",
       "                        <a href='https://neenterprise.esri.com/portal/home/user.html?user=jdoe' target='_blank'><b>John Doe</b>\n",
       "                        </a>\n",
       "                        <br/><br/><b>Bio</b>: None\n",
       "                        <br/><b>First Name</b>: John\n",
       "                        <br/><b>Last Name</b>: Doe\n",
       "                        <br/><b>Username</b>: jdoe\n",
       "                        <br/><b>Joined</b>: December 07, 2017\n",
       "\n",
       "                    </div>\n",
       "                </div>\n",
       "                "
      ],
      "text/plain": [
       "<User username:jdoe>"
      ]
     },
     "execution_count": 9,
     "metadata": {},
     "output_type": "execute_result"
    }
   ],
   "source": [
    "jdoe"
   ]
  },
  {
   "cell_type": "markdown",
   "metadata": {},
   "source": [
    "## Searching for groups"
   ]
  },
  {
   "cell_type": "code",
   "execution_count": 9,
   "metadata": {},
   "outputs": [
    {
     "data": {
      "text/plain": [
       "[<Group title:\"Analysis with ArcGIS Online\" owner:krithica.kantharaj.tugis>,\n",
       " <Group title:\"ArcGIS Collector Workshop\" owner:mscott_tugis>,\n",
       " <Group title:\"Crime analysis1\" owner:patrick.hammons.tugis>,\n",
       " <Group title:\"DVRPC Workshop Open Data\" owner:patrick.hammons.tugis>,\n",
       " <Group title:\"Featured Content Gallery\" owner:mscott_tugis>,\n",
       " <Group title:\"Hub Administration Group\" owner:patrick.hammons.tugis>,\n",
       " <Group title:\"MAC URISA 2016 Open Data\" owner:patrick.hammons.tugis>,\n",
       " <Group title:\"Marketplace Purchases\" owner:mark.scott.localgovne>,\n",
       " <Group title:\"NEARC 2017\" owner:mscott_tugis>,\n",
       " <Group title:\"NJTPA Open Data Workshop\" owner:patrick.hammons.tugis>,\n",
       " <Group title:\"NYARC Web App Builder Workshop\" owner:krithica.kantharaj.tugis>,\n",
       " <Group title:\"Open Data site for NEARC\" owner:mscott_tugis>,\n",
       " <Group title:\"PAGIS 2017\" owner:mscott_tugis>,\n",
       " <Group title:\"Parks & Recreation\" owner:mscott_tugis>,\n",
       " <Group title:\"Public Schools\" owner:mscott_tugis>,\n",
       " <Group title:\"Public Works\" owner:mscott_tugis>,\n",
       " <Group title:\"Share Open Data Initiative Collaboration Group\" owner:patrick.hammons.tugis>,\n",
       " <Group title:\"Share Open Data Initiative Open Data Group\" owner:patrick.hammons.tugis>,\n",
       " <Group title:\"Sharing Group for Angelo\" owner:mscott_tugis>,\n",
       " <Group title:\"Sharing Group for Events\" owner:mscott_tugis>,\n",
       " <Group title:\"Student Support Data Files\" owner:mscott_tugis>,\n",
       " <Group title:\"Town of Middleton, Massachusetts\" owner:mscott_tugis>,\n",
       " <Group title:\"TUGIS_2017\" owner:alex.brown.localgovne>,\n",
       " <Group title:\"Westchester County, NY\" owner:mscott_tugis>,\n",
       " <Group title:\"Workshop: Arsenal\" owner:mscott_tugis>,\n",
       " <Group title:\"Workshop: Chelsea\" owner:mscott_tugis>,\n",
       " <Group title:\"Workshop: Liverpool\" owner:mscott_tugis>,\n",
       " <Group title:\"Workshop: Manchester City\" owner:mscott_tugis>,\n",
       " <Group title:\"Workshop: Manchester United\" owner:mscott_tugis>]"
      ]
     },
     "execution_count": 9,
     "metadata": {},
     "output_type": "execute_result"
    }
   ],
   "source": [
    "gis.groups.search()"
   ]
  },
  {
   "cell_type": "code",
   "execution_count": 10,
   "metadata": {
    "collapsed": true
   },
   "outputs": [],
   "source": [
    "#create groups\n",
    "group_summary = 'A group to share data related to crime and analyze them'\n",
    "group_description = 'Analysis, visualization, modeling of crime and crime related datasets using GIS'\n",
    "\n",
    "crime_group = gis.groups.create(title='Crime analysis1', tags='crime, machine learning, clustering', \n",
    "                      description=group_description,\n",
    "                      snippet=group_summary,\n",
    "                     thumbnail='crime_analysis_group.png')"
   ]
  },
  {
   "cell_type": "code",
   "execution_count": 11,
   "metadata": {},
   "outputs": [
    {
     "data": {
      "text/html": [
       "<div class=\"9item_container\" style=\"height: auto; overflow: hidden; border: 1px solid #cfcfcf; border-radius: 2px; background: #f6fafa; line-height: 1.21429em; padding: 10px;\">\n",
       "                    <div class=\"item_left\" style=\"width: 210px; float: left;\">\n",
       "                       <a href='https://localgovne.maps.arcgis.com/home/group.html?id=94efe8842fa043dab8f1dfc1d1517604' target='_blank'>\n",
       "                        <img src='data:image/png;base64,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' ' class=\"itemThumbnail\">\n",
       "                       </a>\n",
       "                    </div>\n",
       "\n",
       "                    <div class=\"item_right\" style=\"float: none; width: auto; overflow: hidden;\">\n",
       "                        <a href='https://localgovne.maps.arcgis.com/home/group.html?id=94efe8842fa043dab8f1dfc1d1517604' target='_blank'><b>Crime analysis1</b>\n",
       "                        </a>\n",
       "                        <br/>\n",
       "                        <br/><b>Summary</b>: A group to share data related to crime and analyze them\n",
       "                        <br/><b>Description</b>: Analysis, visualization, modeling of crime and crime related datasets using GIS\n",
       "                        <br/><b>Owner</b>: patrick.hammons.tugis\n",
       "                        <br/><b>Created</b>: March 05, 2018\n",
       "\n",
       "                    </div>\n",
       "                </div>\n",
       "                "
      ],
      "text/plain": [
       "<Group title:\"Crime analysis1\" owner:patrick.hammons.tugis>"
      ]
     },
     "execution_count": 11,
     "metadata": {},
     "output_type": "execute_result"
    }
   ],
   "source": [
    "crime_group"
   ]
  },
  {
   "cell_type": "markdown",
   "metadata": {},
   "source": [
    "## Add user to a group"
   ]
  },
  {
   "cell_type": "code",
   "execution_count": 15,
   "metadata": {},
   "outputs": [
    {
     "data": {
      "text/plain": [
       "{'notAdded': ['jdoe']}"
      ]
     },
     "execution_count": 15,
     "metadata": {},
     "output_type": "execute_result"
    }
   ],
   "source": [
    "crime_group.add_users(jdoe)"
   ]
  },
  {
   "cell_type": "markdown",
   "metadata": {},
   "source": [
    "## Removing users"
   ]
  },
  {
   "cell_type": "code",
   "execution_count": 18,
   "metadata": {},
   "outputs": [
    {
     "data": {
      "text/html": [
       "<div class=\"9item_container\" style=\"height: auto; overflow: hidden; border: 1px solid #cfcfcf; border-radius: 2px; background: #f6fafa; line-height: 1.21429em; padding: 10px;\">\n",
       "                    <div class=\"item_left\" style=\"width: 210px; float: left;\">\n",
       "                       <a href='https://localgovne.maps.arcgis.com/home/user.html?user=jdoe' target='_blank'>\n",
       "                        <img src='data:image/png;base64,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' width='200' height='133' class=\"itemThumbnail\">\n",
       "                       </a>\n",
       "                    </div>\n",
       "\n",
       "                    <div class=\"item_right\" style=\"float: none; width: auto; overflow: hidden;\">\n",
       "                        <a href='https://localgovne.maps.arcgis.com/home/user.html?user=jdoe' target='_blank'><b>John Doe</b>\n",
       "                        </a>\n",
       "                        <br/><br/><b>Bio</b>: None\n",
       "                        <br/><b>First Name</b>: John\n",
       "                        <br/><b>Last Name</b>: Doe\n",
       "                        <br/><b>Username</b>: jdoe\n",
       "                        <br/><b>Joined</b>: March 05, 2018\n",
       "\n",
       "                    </div>\n",
       "                </div>\n",
       "                "
      ],
      "text/plain": [
       "<User username:jdoe>"
      ]
     },
     "execution_count": 18,
     "metadata": {},
     "output_type": "execute_result"
    }
   ],
   "source": [
    "batman = gis.users.search('jdoe')[0]\n",
    "batman"
   ]
  },
  {
   "cell_type": "code",
   "execution_count": 19,
   "metadata": {},
   "outputs": [
    {
     "data": {
      "text/plain": [
       "True"
      ]
     },
     "execution_count": 19,
     "metadata": {},
     "output_type": "execute_result"
    }
   ],
   "source": [
    "batman.delete()"
   ]
  },
  {
   "cell_type": "code",
   "execution_count": 20,
   "metadata": {},
   "outputs": [
    {
     "name": "stderr",
     "output_type": "stream",
     "text": [
      "You do not have permissions to access this resource or perform this operation.\n"
     ]
    },
    {
     "ename": "RuntimeError",
     "evalue": "You do not have permissions to access this resource or perform this operation.\n(Error Code: 403)",
     "output_type": "error",
     "traceback": [
      "\u001b[0;31m---------------------------------------------------------------------------\u001b[0m",
      "\u001b[0;31mRuntimeError\u001b[0m                              Traceback (most recent call last)",
      "\u001b[0;32m<ipython-input-20-2b3d9d58f33b>\u001b[0m in \u001b[0;36m<module>\u001b[0;34m()\u001b[0m\n\u001b[0;32m----> 1\u001b[0;31m \u001b[0mbatman\u001b[0m\u001b[0;34m.\u001b[0m\u001b[0mitems\u001b[0m\u001b[0;34m(\u001b[0m\u001b[0;34m)\u001b[0m\u001b[0;34m\u001b[0m\u001b[0m\n\u001b[0m",
      "\u001b[0;32m~/anaconda3/lib/python3.6/site-packages/arcgis/gis/__init__.py\u001b[0m in \u001b[0;36mitems\u001b[0;34m(self, folder, max_items)\u001b[0m\n\u001b[1;32m   4534\u001b[0m                       \"or a dict containing the folder 'id'\")\n\u001b[1;32m   4535\u001b[0m \u001b[0;34m\u001b[0m\u001b[0m\n\u001b[0;32m-> 4536\u001b[0;31m         \u001b[0mresp\u001b[0m \u001b[0;34m=\u001b[0m \u001b[0mself\u001b[0m\u001b[0;34m.\u001b[0m\u001b[0m_portal\u001b[0m\u001b[0;34m.\u001b[0m\u001b[0muser_items\u001b[0m\u001b[0;34m(\u001b[0m\u001b[0mself\u001b[0m\u001b[0;34m.\u001b[0m\u001b[0musername\u001b[0m\u001b[0;34m,\u001b[0m \u001b[0mfolder_id\u001b[0m\u001b[0;34m,\u001b[0m \u001b[0mmax_items\u001b[0m\u001b[0;34m)\u001b[0m\u001b[0;34m\u001b[0m\u001b[0m\n\u001b[0m\u001b[1;32m   4537\u001b[0m         \u001b[0;32mfor\u001b[0m \u001b[0mitem\u001b[0m \u001b[0;32min\u001b[0m \u001b[0mresp\u001b[0m\u001b[0;34m:\u001b[0m\u001b[0;34m\u001b[0m\u001b[0m\n\u001b[1;32m   4538\u001b[0m             \u001b[0mitems\u001b[0m\u001b[0;34m.\u001b[0m\u001b[0mappend\u001b[0m\u001b[0;34m(\u001b[0m\u001b[0mItem\u001b[0m\u001b[0;34m(\u001b[0m\u001b[0mself\u001b[0m\u001b[0;34m.\u001b[0m\u001b[0m_gis\u001b[0m\u001b[0;34m,\u001b[0m \u001b[0mitem\u001b[0m\u001b[0;34m[\u001b[0m\u001b[0;34m'id'\u001b[0m\u001b[0;34m]\u001b[0m\u001b[0;34m,\u001b[0m \u001b[0mitem\u001b[0m\u001b[0;34m)\u001b[0m\u001b[0;34m)\u001b[0m\u001b[0;34m\u001b[0m\u001b[0m\n",
      "\u001b[0;32m~/anaconda3/lib/python3.6/site-packages/arcgis/_impl/portalpy.py\u001b[0m in \u001b[0;36muser_items\u001b[0;34m(self, owner, folder, max_results)\u001b[0m\n\u001b[1;32m   1542\u001b[0m     \u001b[0;32mdef\u001b[0m \u001b[0muser_items\u001b[0m\u001b[0;34m(\u001b[0m\u001b[0mself\u001b[0m\u001b[0;34m,\u001b[0m \u001b[0mowner\u001b[0m\u001b[0;34m,\u001b[0m \u001b[0mfolder\u001b[0m\u001b[0;34m,\u001b[0m \u001b[0mmax_results\u001b[0m\u001b[0;34m=\u001b[0m\u001b[0;36m100\u001b[0m\u001b[0;34m)\u001b[0m\u001b[0;34m:\u001b[0m\u001b[0;34m\u001b[0m\u001b[0m\n\u001b[1;32m   1543\u001b[0m         \u001b[0mcount\u001b[0m \u001b[0;34m=\u001b[0m \u001b[0;36m0\u001b[0m\u001b[0;34m\u001b[0m\u001b[0m\n\u001b[0;32m-> 1544\u001b[0;31m         \u001b[0mresp\u001b[0m \u001b[0;34m=\u001b[0m \u001b[0mself\u001b[0m\u001b[0;34m.\u001b[0m\u001b[0m_contents_page\u001b[0m\u001b[0;34m(\u001b[0m\u001b[0mowner\u001b[0m\u001b[0;34m,\u001b[0m \u001b[0mfolder\u001b[0m\u001b[0;34m,\u001b[0m \u001b[0;36m1\u001b[0m\u001b[0;34m,\u001b[0m \u001b[0mmin\u001b[0m\u001b[0;34m(\u001b[0m\u001b[0mmax_results\u001b[0m\u001b[0;34m,\u001b[0m \u001b[0;36m100\u001b[0m\u001b[0;34m)\u001b[0m\u001b[0;34m)\u001b[0m\u001b[0;34m\u001b[0m\u001b[0m\n\u001b[0m\u001b[1;32m   1545\u001b[0m         \u001b[0mresults\u001b[0m \u001b[0;34m=\u001b[0m \u001b[0mresp\u001b[0m\u001b[0;34m.\u001b[0m\u001b[0mget\u001b[0m\u001b[0;34m(\u001b[0m\u001b[0;34m'items'\u001b[0m\u001b[0;34m)\u001b[0m\u001b[0;34m\u001b[0m\u001b[0m\n\u001b[1;32m   1546\u001b[0m         \u001b[0mcount\u001b[0m \u001b[0;34m+=\u001b[0m \u001b[0mint\u001b[0m\u001b[0;34m(\u001b[0m\u001b[0mresp\u001b[0m\u001b[0;34m[\u001b[0m\u001b[0;34m'num'\u001b[0m\u001b[0;34m]\u001b[0m\u001b[0;34m)\u001b[0m\u001b[0;34m\u001b[0m\u001b[0m\n",
      "\u001b[0;32m~/anaconda3/lib/python3.6/site-packages/arcgis/_impl/portalpy.py\u001b[0m in \u001b[0;36m_contents_page\u001b[0;34m(self, owner, folderid, start, num)\u001b[0m\n\u001b[1;32m   2334\u001b[0m         \u001b[0;32mif\u001b[0m \u001b[0mfolderid\u001b[0m\u001b[0;34m:\u001b[0m\u001b[0;34m\u001b[0m\u001b[0m\n\u001b[1;32m   2335\u001b[0m             \u001b[0mpath\u001b[0m \u001b[0;34m=\u001b[0m \u001b[0;34m\"{}/{}\"\u001b[0m\u001b[0;34m.\u001b[0m\u001b[0mformat\u001b[0m\u001b[0;34m(\u001b[0m\u001b[0mpath\u001b[0m\u001b[0;34m,\u001b[0m \u001b[0mfolderid\u001b[0m\u001b[0;34m)\u001b[0m\u001b[0;34m\u001b[0m\u001b[0m\n\u001b[0;32m-> 2336\u001b[0;31m         \u001b[0;32mreturn\u001b[0m \u001b[0mself\u001b[0m\u001b[0;34m.\u001b[0m\u001b[0mcon\u001b[0m\u001b[0;34m.\u001b[0m\u001b[0mpost\u001b[0m\u001b[0;34m(\u001b[0m\u001b[0mpath\u001b[0m\u001b[0;34m,\u001b[0m \u001b[0mpostdata\u001b[0m\u001b[0;34m)\u001b[0m\u001b[0;34m\u001b[0m\u001b[0m\n\u001b[0m\u001b[1;32m   2337\u001b[0m \u001b[0;34m\u001b[0m\u001b[0m\n\u001b[1;32m   2338\u001b[0m     \u001b[0;32mdef\u001b[0m \u001b[0m_search_page\u001b[0m\u001b[0;34m(\u001b[0m\u001b[0mself\u001b[0m\u001b[0;34m,\u001b[0m \u001b[0mq\u001b[0m\u001b[0;34m=\u001b[0m\u001b[0;32mNone\u001b[0m\u001b[0;34m,\u001b[0m \u001b[0mbbox\u001b[0m\u001b[0;34m=\u001b[0m\u001b[0;32mNone\u001b[0m\u001b[0;34m,\u001b[0m \u001b[0mstart\u001b[0m\u001b[0;34m=\u001b[0m\u001b[0;36m1\u001b[0m\u001b[0;34m,\u001b[0m \u001b[0mnum\u001b[0m\u001b[0;34m=\u001b[0m\u001b[0;36m10\u001b[0m\u001b[0;34m,\u001b[0m \u001b[0msortfield\u001b[0m\u001b[0;34m=\u001b[0m\u001b[0;34m''\u001b[0m\u001b[0;34m,\u001b[0m \u001b[0msortorder\u001b[0m\u001b[0;34m=\u001b[0m\u001b[0;34m'asc'\u001b[0m\u001b[0;34m,\u001b[0m \u001b[0mcategories\u001b[0m\u001b[0;34m=\u001b[0m\u001b[0;32mNone\u001b[0m\u001b[0;34m)\u001b[0m\u001b[0;34m:\u001b[0m\u001b[0;34m\u001b[0m\u001b[0m\n",
      "\u001b[0;32m~/anaconda3/lib/python3.6/site-packages/arcgis/_impl/connection.py\u001b[0m in \u001b[0;36mpost\u001b[0;34m(self, path, postdata, files, ssl, compress, is_retry, use_ordered_dict, add_token, verify_cert, token, try_json, out_folder, file_name, force_bytes, add_headers)\u001b[0m\n\u001b[1;32m   1151\u001b[0m                                          verify_cert=verify_cert, is_retry=True)\n\u001b[1;32m   1152\u001b[0m \u001b[0;34m\u001b[0m\u001b[0m\n\u001b[0;32m-> 1153\u001b[0;31m                 \u001b[0mself\u001b[0m\u001b[0;34m.\u001b[0m\u001b[0m_handle_json_error\u001b[0m\u001b[0;34m(\u001b[0m\u001b[0mresp_json\u001b[0m\u001b[0;34m[\u001b[0m\u001b[0;34m'error'\u001b[0m\u001b[0;34m]\u001b[0m\u001b[0;34m,\u001b[0m \u001b[0merrorcode\u001b[0m\u001b[0;34m)\u001b[0m\u001b[0;34m\u001b[0m\u001b[0m\n\u001b[0m\u001b[1;32m   1154\u001b[0m                 \u001b[0;32mreturn\u001b[0m \u001b[0;32mNone\u001b[0m\u001b[0;34m\u001b[0m\u001b[0m\n\u001b[1;32m   1155\u001b[0m         \u001b[0;32mexcept\u001b[0m \u001b[0mAttributeError\u001b[0m\u001b[0;34m:\u001b[0m\u001b[0;34m\u001b[0m\u001b[0m\n",
      "\u001b[0;32m~/anaconda3/lib/python3.6/site-packages/arcgis/_impl/connection.py\u001b[0m in \u001b[0;36m_handle_json_error\u001b[0;34m(self, error, errorcode)\u001b[0m\n\u001b[1;32m   1171\u001b[0m \u001b[0;34m\u001b[0m\u001b[0m\n\u001b[1;32m   1172\u001b[0m         \u001b[0merrormessage\u001b[0m \u001b[0;34m=\u001b[0m \u001b[0merrormessage\u001b[0m \u001b[0;34m+\u001b[0m \u001b[0;34m\"\\n(Error Code: \"\u001b[0m \u001b[0;34m+\u001b[0m \u001b[0mstr\u001b[0m\u001b[0;34m(\u001b[0m\u001b[0merrorcode\u001b[0m\u001b[0;34m)\u001b[0m \u001b[0;34m+\u001b[0m\u001b[0;34m\")\"\u001b[0m\u001b[0;34m\u001b[0m\u001b[0m\n\u001b[0;32m-> 1173\u001b[0;31m         \u001b[0;32mraise\u001b[0m \u001b[0mRuntimeError\u001b[0m\u001b[0;34m(\u001b[0m\u001b[0merrormessage\u001b[0m\u001b[0;34m)\u001b[0m\u001b[0;34m\u001b[0m\u001b[0m\n\u001b[0m\u001b[1;32m   1174\u001b[0m \u001b[0;34m\u001b[0m\u001b[0m\n\u001b[1;32m   1175\u001b[0m \u001b[0;32mclass\u001b[0m \u001b[0m_StrictURLopener\u001b[0m\u001b[0;34m(\u001b[0m\u001b[0mrequest\u001b[0m\u001b[0;34m.\u001b[0m\u001b[0mFancyURLopener\u001b[0m\u001b[0;34m)\u001b[0m\u001b[0;34m:\u001b[0m\u001b[0;34m\u001b[0m\u001b[0m\n",
      "\u001b[0;31mRuntimeError\u001b[0m: You do not have permissions to access this resource or perform this operation.\n(Error Code: 403)"
     ]
    }
   ],
   "source": [
    "batman.items()"
   ]
  },
  {
   "cell_type": "code",
   "execution_count": 18,
   "metadata": {},
   "outputs": [
    {
     "data": {
      "text/plain": [
       "[]"
      ]
     },
     "execution_count": 18,
     "metadata": {},
     "output_type": "execute_result"
    }
   ],
   "source": [
    "batman.groups"
   ]
  },
  {
   "cell_type": "code",
   "execution_count": 19,
   "metadata": {},
   "outputs": [
    {
     "name": "stderr",
     "output_type": "stream",
     "text": [
      "Item does not exist or is inaccessible.\n"
     ]
    },
    {
     "ename": "RuntimeError",
     "evalue": "Item does not exist or is inaccessible.\n(Error Code: 400)",
     "output_type": "error",
     "traceback": [
      "\u001b[0;31m---------------------------------------------------------------------------\u001b[0m",
      "\u001b[0;31mRuntimeError\u001b[0m                              Traceback (most recent call last)",
      "\u001b[0;32m<ipython-input-19-145db50f8bf9>\u001b[0m in \u001b[0;36m<module>\u001b[0;34m()\u001b[0m\n\u001b[1;32m      1\u001b[0m \u001b[0mitems\u001b[0m \u001b[0;34m=\u001b[0m \u001b[0mbatman\u001b[0m\u001b[0;34m.\u001b[0m\u001b[0mitems\u001b[0m\u001b[0;34m(\u001b[0m\u001b[0;34m)\u001b[0m\u001b[0;34m\u001b[0m\u001b[0m\n\u001b[1;32m      2\u001b[0m \u001b[0;32mfor\u001b[0m \u001b[0mitem\u001b[0m \u001b[0;32min\u001b[0m \u001b[0mitems\u001b[0m\u001b[0;34m:\u001b[0m\u001b[0;34m\u001b[0m\u001b[0m\n\u001b[0;32m----> 3\u001b[0;31m     \u001b[0mitem\u001b[0m\u001b[0;34m.\u001b[0m\u001b[0mreassign_to\u001b[0m\u001b[0;34m(\u001b[0m\u001b[0;34m'jdoe'\u001b[0m\u001b[0;34m)\u001b[0m\u001b[0;34m\u001b[0m\u001b[0m\n\u001b[0m",
      "\u001b[0;32m/Users/patr8559/anaconda/lib/python3.5/site-packages/arcgis/gis/__init__.py\u001b[0m in \u001b[0;36mreassign_to\u001b[0;34m(self, target_owner, target_folder)\u001b[0m\n\u001b[1;32m   4364\u001b[0m         \u001b[0;32mexcept\u001b[0m\u001b[0;34m:\u001b[0m\u001b[0;34m\u001b[0m\u001b[0m\n\u001b[1;32m   4365\u001b[0m             \u001b[0mcurrent_folder\u001b[0m \u001b[0;34m=\u001b[0m \u001b[0;32mNone\u001b[0m\u001b[0;34m\u001b[0m\u001b[0m\n\u001b[0;32m-> 4366\u001b[0;31m         \u001b[0mresp\u001b[0m \u001b[0;34m=\u001b[0m \u001b[0mself\u001b[0m\u001b[0;34m.\u001b[0m\u001b[0m_portal\u001b[0m\u001b[0;34m.\u001b[0m\u001b[0mreassign_item\u001b[0m\u001b[0;34m(\u001b[0m\u001b[0mself\u001b[0m\u001b[0;34m.\u001b[0m\u001b[0mitemid\u001b[0m\u001b[0;34m,\u001b[0m \u001b[0mself\u001b[0m\u001b[0;34m.\u001b[0m\u001b[0mowner\u001b[0m\u001b[0;34m,\u001b[0m \u001b[0mtarget_owner\u001b[0m\u001b[0;34m,\u001b[0m \u001b[0mcurrent_folder\u001b[0m\u001b[0;34m,\u001b[0m \u001b[0mtarget_folder\u001b[0m\u001b[0;34m)\u001b[0m\u001b[0;34m\u001b[0m\u001b[0m\n\u001b[0m\u001b[1;32m   4367\u001b[0m         \u001b[0;32mif\u001b[0m \u001b[0mresp\u001b[0m \u001b[0;32mis\u001b[0m \u001b[0;32mTrue\u001b[0m\u001b[0;34m:\u001b[0m\u001b[0;34m\u001b[0m\u001b[0m\n\u001b[1;32m   4368\u001b[0m             \u001b[0mself\u001b[0m\u001b[0;34m.\u001b[0m\u001b[0m_hydrate\u001b[0m\u001b[0;34m(\u001b[0m\u001b[0;34m)\u001b[0m \u001b[0;31m# refresh\u001b[0m\u001b[0;34m\u001b[0m\u001b[0m\n",
      "\u001b[0;32m/Users/patr8559/anaconda/lib/python3.5/site-packages/arcgis/_impl/portalpy.py\u001b[0m in \u001b[0;36mreassign_item\u001b[0;34m(self, item_id, current_owner, target_owner, current_folder, target_folder)\u001b[0m\n\u001b[1;32m   1453\u001b[0m         \u001b[0mpostdata\u001b[0m\u001b[0;34m[\u001b[0m\u001b[0;34m'targetUsername'\u001b[0m\u001b[0;34m]\u001b[0m \u001b[0;34m=\u001b[0m \u001b[0mtarget_owner\u001b[0m\u001b[0;34m\u001b[0m\u001b[0m\n\u001b[1;32m   1454\u001b[0m         \u001b[0mpostdata\u001b[0m\u001b[0;34m[\u001b[0m\u001b[0;34m'targetFolderName'\u001b[0m\u001b[0;34m]\u001b[0m \u001b[0;34m=\u001b[0m \u001b[0mtarget_folder\u001b[0m \u001b[0;32mif\u001b[0m \u001b[0mtarget_folder\u001b[0m \u001b[0;32melse\u001b[0m \u001b[0;34m'/'\u001b[0m\u001b[0;34m\u001b[0m\u001b[0m\n\u001b[0;32m-> 1455\u001b[0;31m         \u001b[0mresp\u001b[0m \u001b[0;34m=\u001b[0m \u001b[0mself\u001b[0m\u001b[0;34m.\u001b[0m\u001b[0mcon\u001b[0m\u001b[0;34m.\u001b[0m\u001b[0mpost\u001b[0m\u001b[0;34m(\u001b[0m\u001b[0mpath\u001b[0m\u001b[0;34m,\u001b[0m \u001b[0mpostdata\u001b[0m\u001b[0;34m)\u001b[0m\u001b[0;34m\u001b[0m\u001b[0m\n\u001b[0m\u001b[1;32m   1456\u001b[0m         \u001b[0;32mif\u001b[0m \u001b[0mresp\u001b[0m\u001b[0;34m:\u001b[0m\u001b[0;34m\u001b[0m\u001b[0m\n\u001b[1;32m   1457\u001b[0m             \u001b[0;32mreturn\u001b[0m \u001b[0mresp\u001b[0m\u001b[0;34m.\u001b[0m\u001b[0mget\u001b[0m\u001b[0;34m(\u001b[0m\u001b[0;34m'success'\u001b[0m\u001b[0;34m)\u001b[0m\u001b[0;34m\u001b[0m\u001b[0m\n",
      "\u001b[0;32m/Users/patr8559/anaconda/lib/python3.5/site-packages/arcgis/_impl/connection.py\u001b[0m in \u001b[0;36mpost\u001b[0;34m(self, path, postdata, files, ssl, compress, is_retry, use_ordered_dict, add_token, verify_cert, token, try_json, out_folder, file_name, force_bytes, add_headers)\u001b[0m\n\u001b[1;32m   1127\u001b[0m                 \u001b[0;32melif\u001b[0m \u001b[0merrorcode\u001b[0m \u001b[0;34m==\u001b[0m \u001b[0;36m498\u001b[0m\u001b[0;34m:\u001b[0m\u001b[0;34m\u001b[0m\u001b[0m\n\u001b[1;32m   1128\u001b[0m                     \u001b[0;32mraise\u001b[0m \u001b[0mRuntimeError\u001b[0m\u001b[0;34m(\u001b[0m\u001b[0;34m'Invalid token'\u001b[0m\u001b[0;34m)\u001b[0m\u001b[0;34m\u001b[0m\u001b[0m\n\u001b[0;32m-> 1129\u001b[0;31m                 \u001b[0mself\u001b[0m\u001b[0;34m.\u001b[0m\u001b[0m_handle_json_error\u001b[0m\u001b[0;34m(\u001b[0m\u001b[0mresp_json\u001b[0m\u001b[0;34m[\u001b[0m\u001b[0;34m'error'\u001b[0m\u001b[0;34m]\u001b[0m\u001b[0;34m,\u001b[0m \u001b[0merrorcode\u001b[0m\u001b[0;34m)\u001b[0m\u001b[0;34m\u001b[0m\u001b[0m\n\u001b[0m\u001b[1;32m   1130\u001b[0m                 \u001b[0;32mreturn\u001b[0m \u001b[0;32mNone\u001b[0m\u001b[0;34m\u001b[0m\u001b[0m\n\u001b[1;32m   1131\u001b[0m         \u001b[0;32mexcept\u001b[0m \u001b[0mAttributeError\u001b[0m\u001b[0;34m:\u001b[0m\u001b[0;34m\u001b[0m\u001b[0m\n",
      "\u001b[0;32m/Users/patr8559/anaconda/lib/python3.5/site-packages/arcgis/_impl/connection.py\u001b[0m in \u001b[0;36m_handle_json_error\u001b[0;34m(self, error, errorcode)\u001b[0m\n\u001b[1;32m   1147\u001b[0m \u001b[0;34m\u001b[0m\u001b[0m\n\u001b[1;32m   1148\u001b[0m         \u001b[0merrormessage\u001b[0m \u001b[0;34m=\u001b[0m \u001b[0merrormessage\u001b[0m \u001b[0;34m+\u001b[0m \u001b[0;34m\"\\n(Error Code: \"\u001b[0m \u001b[0;34m+\u001b[0m \u001b[0mstr\u001b[0m\u001b[0;34m(\u001b[0m\u001b[0merrorcode\u001b[0m\u001b[0;34m)\u001b[0m \u001b[0;34m+\u001b[0m\u001b[0;34m\")\"\u001b[0m\u001b[0;34m\u001b[0m\u001b[0m\n\u001b[0;32m-> 1149\u001b[0;31m         \u001b[0;32mraise\u001b[0m \u001b[0mRuntimeError\u001b[0m\u001b[0;34m(\u001b[0m\u001b[0merrormessage\u001b[0m\u001b[0;34m)\u001b[0m\u001b[0;34m\u001b[0m\u001b[0m\n\u001b[0m\u001b[1;32m   1150\u001b[0m \u001b[0;34m\u001b[0m\u001b[0m\n\u001b[1;32m   1151\u001b[0m \u001b[0;32mclass\u001b[0m \u001b[0m_StrictURLopener\u001b[0m\u001b[0;34m(\u001b[0m\u001b[0mrequest\u001b[0m\u001b[0;34m.\u001b[0m\u001b[0mFancyURLopener\u001b[0m\u001b[0;34m)\u001b[0m\u001b[0;34m:\u001b[0m\u001b[0;34m\u001b[0m\u001b[0m\n",
      "\u001b[0;31mRuntimeError\u001b[0m: Item does not exist or is inaccessible.\n(Error Code: 400)"
     ]
    }
   ],
   "source": [
    "items = batman.items()\n",
    "for item in items:\n",
    "    item.reassign_to('jdoe')"
   ]
  },
  {
   "cell_type": "markdown",
   "metadata": {},
   "source": [
    "## John Doe's contents"
   ]
  },
  {
   "cell_type": "code",
   "execution_count": 23,
   "metadata": {},
   "outputs": [
    {
     "name": "stderr",
     "output_type": "stream",
     "text": [
      "You do not have permissions to access this resource or perform this operation.\n"
     ]
    },
    {
     "ename": "RuntimeError",
     "evalue": "You do not have permissions to access this resource or perform this operation.\n(Error Code: 403)",
     "output_type": "error",
     "traceback": [
      "\u001b[0;31m---------------------------------------------------------------------------\u001b[0m",
      "\u001b[0;31mRuntimeError\u001b[0m                              Traceback (most recent call last)",
      "\u001b[0;32m<ipython-input-23-8c3689d9a17c>\u001b[0m in \u001b[0;36m<module>\u001b[0;34m()\u001b[0m\n\u001b[0;32m----> 1\u001b[0;31m \u001b[0mjdoe\u001b[0m\u001b[0;34m.\u001b[0m\u001b[0mitems\u001b[0m\u001b[0;34m(\u001b[0m\u001b[0;34m)\u001b[0m\u001b[0;34m\u001b[0m\u001b[0m\n\u001b[0m",
      "\u001b[0;32m~/anaconda3/lib/python3.6/site-packages/arcgis/gis/__init__.py\u001b[0m in \u001b[0;36mitems\u001b[0;34m(self, folder, max_items)\u001b[0m\n\u001b[1;32m   4534\u001b[0m                       \"or a dict containing the folder 'id'\")\n\u001b[1;32m   4535\u001b[0m \u001b[0;34m\u001b[0m\u001b[0m\n\u001b[0;32m-> 4536\u001b[0;31m         \u001b[0mresp\u001b[0m \u001b[0;34m=\u001b[0m \u001b[0mself\u001b[0m\u001b[0;34m.\u001b[0m\u001b[0m_portal\u001b[0m\u001b[0;34m.\u001b[0m\u001b[0muser_items\u001b[0m\u001b[0;34m(\u001b[0m\u001b[0mself\u001b[0m\u001b[0;34m.\u001b[0m\u001b[0musername\u001b[0m\u001b[0;34m,\u001b[0m \u001b[0mfolder_id\u001b[0m\u001b[0;34m,\u001b[0m \u001b[0mmax_items\u001b[0m\u001b[0;34m)\u001b[0m\u001b[0;34m\u001b[0m\u001b[0m\n\u001b[0m\u001b[1;32m   4537\u001b[0m         \u001b[0;32mfor\u001b[0m \u001b[0mitem\u001b[0m \u001b[0;32min\u001b[0m \u001b[0mresp\u001b[0m\u001b[0;34m:\u001b[0m\u001b[0;34m\u001b[0m\u001b[0m\n\u001b[1;32m   4538\u001b[0m             \u001b[0mitems\u001b[0m\u001b[0;34m.\u001b[0m\u001b[0mappend\u001b[0m\u001b[0;34m(\u001b[0m\u001b[0mItem\u001b[0m\u001b[0;34m(\u001b[0m\u001b[0mself\u001b[0m\u001b[0;34m.\u001b[0m\u001b[0m_gis\u001b[0m\u001b[0;34m,\u001b[0m \u001b[0mitem\u001b[0m\u001b[0;34m[\u001b[0m\u001b[0;34m'id'\u001b[0m\u001b[0;34m]\u001b[0m\u001b[0;34m,\u001b[0m \u001b[0mitem\u001b[0m\u001b[0;34m)\u001b[0m\u001b[0;34m)\u001b[0m\u001b[0;34m\u001b[0m\u001b[0m\n",
      "\u001b[0;32m~/anaconda3/lib/python3.6/site-packages/arcgis/_impl/portalpy.py\u001b[0m in \u001b[0;36muser_items\u001b[0;34m(self, owner, folder, max_results)\u001b[0m\n\u001b[1;32m   1542\u001b[0m     \u001b[0;32mdef\u001b[0m \u001b[0muser_items\u001b[0m\u001b[0;34m(\u001b[0m\u001b[0mself\u001b[0m\u001b[0;34m,\u001b[0m \u001b[0mowner\u001b[0m\u001b[0;34m,\u001b[0m \u001b[0mfolder\u001b[0m\u001b[0;34m,\u001b[0m \u001b[0mmax_results\u001b[0m\u001b[0;34m=\u001b[0m\u001b[0;36m100\u001b[0m\u001b[0;34m)\u001b[0m\u001b[0;34m:\u001b[0m\u001b[0;34m\u001b[0m\u001b[0m\n\u001b[1;32m   1543\u001b[0m         \u001b[0mcount\u001b[0m \u001b[0;34m=\u001b[0m \u001b[0;36m0\u001b[0m\u001b[0;34m\u001b[0m\u001b[0m\n\u001b[0;32m-> 1544\u001b[0;31m         \u001b[0mresp\u001b[0m \u001b[0;34m=\u001b[0m \u001b[0mself\u001b[0m\u001b[0;34m.\u001b[0m\u001b[0m_contents_page\u001b[0m\u001b[0;34m(\u001b[0m\u001b[0mowner\u001b[0m\u001b[0;34m,\u001b[0m \u001b[0mfolder\u001b[0m\u001b[0;34m,\u001b[0m \u001b[0;36m1\u001b[0m\u001b[0;34m,\u001b[0m \u001b[0mmin\u001b[0m\u001b[0;34m(\u001b[0m\u001b[0mmax_results\u001b[0m\u001b[0;34m,\u001b[0m \u001b[0;36m100\u001b[0m\u001b[0;34m)\u001b[0m\u001b[0;34m)\u001b[0m\u001b[0;34m\u001b[0m\u001b[0m\n\u001b[0m\u001b[1;32m   1545\u001b[0m         \u001b[0mresults\u001b[0m \u001b[0;34m=\u001b[0m \u001b[0mresp\u001b[0m\u001b[0;34m.\u001b[0m\u001b[0mget\u001b[0m\u001b[0;34m(\u001b[0m\u001b[0;34m'items'\u001b[0m\u001b[0;34m)\u001b[0m\u001b[0;34m\u001b[0m\u001b[0m\n\u001b[1;32m   1546\u001b[0m         \u001b[0mcount\u001b[0m \u001b[0;34m+=\u001b[0m \u001b[0mint\u001b[0m\u001b[0;34m(\u001b[0m\u001b[0mresp\u001b[0m\u001b[0;34m[\u001b[0m\u001b[0;34m'num'\u001b[0m\u001b[0;34m]\u001b[0m\u001b[0;34m)\u001b[0m\u001b[0;34m\u001b[0m\u001b[0m\n",
      "\u001b[0;32m~/anaconda3/lib/python3.6/site-packages/arcgis/_impl/portalpy.py\u001b[0m in \u001b[0;36m_contents_page\u001b[0;34m(self, owner, folderid, start, num)\u001b[0m\n\u001b[1;32m   2334\u001b[0m         \u001b[0;32mif\u001b[0m \u001b[0mfolderid\u001b[0m\u001b[0;34m:\u001b[0m\u001b[0;34m\u001b[0m\u001b[0m\n\u001b[1;32m   2335\u001b[0m             \u001b[0mpath\u001b[0m \u001b[0;34m=\u001b[0m \u001b[0;34m\"{}/{}\"\u001b[0m\u001b[0;34m.\u001b[0m\u001b[0mformat\u001b[0m\u001b[0;34m(\u001b[0m\u001b[0mpath\u001b[0m\u001b[0;34m,\u001b[0m \u001b[0mfolderid\u001b[0m\u001b[0;34m)\u001b[0m\u001b[0;34m\u001b[0m\u001b[0m\n\u001b[0;32m-> 2336\u001b[0;31m         \u001b[0;32mreturn\u001b[0m \u001b[0mself\u001b[0m\u001b[0;34m.\u001b[0m\u001b[0mcon\u001b[0m\u001b[0;34m.\u001b[0m\u001b[0mpost\u001b[0m\u001b[0;34m(\u001b[0m\u001b[0mpath\u001b[0m\u001b[0;34m,\u001b[0m \u001b[0mpostdata\u001b[0m\u001b[0;34m)\u001b[0m\u001b[0;34m\u001b[0m\u001b[0m\n\u001b[0m\u001b[1;32m   2337\u001b[0m \u001b[0;34m\u001b[0m\u001b[0m\n\u001b[1;32m   2338\u001b[0m     \u001b[0;32mdef\u001b[0m \u001b[0m_search_page\u001b[0m\u001b[0;34m(\u001b[0m\u001b[0mself\u001b[0m\u001b[0;34m,\u001b[0m \u001b[0mq\u001b[0m\u001b[0;34m=\u001b[0m\u001b[0;32mNone\u001b[0m\u001b[0;34m,\u001b[0m \u001b[0mbbox\u001b[0m\u001b[0;34m=\u001b[0m\u001b[0;32mNone\u001b[0m\u001b[0;34m,\u001b[0m \u001b[0mstart\u001b[0m\u001b[0;34m=\u001b[0m\u001b[0;36m1\u001b[0m\u001b[0;34m,\u001b[0m \u001b[0mnum\u001b[0m\u001b[0;34m=\u001b[0m\u001b[0;36m10\u001b[0m\u001b[0;34m,\u001b[0m \u001b[0msortfield\u001b[0m\u001b[0;34m=\u001b[0m\u001b[0;34m''\u001b[0m\u001b[0;34m,\u001b[0m \u001b[0msortorder\u001b[0m\u001b[0;34m=\u001b[0m\u001b[0;34m'asc'\u001b[0m\u001b[0;34m,\u001b[0m \u001b[0mcategories\u001b[0m\u001b[0;34m=\u001b[0m\u001b[0;32mNone\u001b[0m\u001b[0;34m)\u001b[0m\u001b[0;34m:\u001b[0m\u001b[0;34m\u001b[0m\u001b[0m\n",
      "\u001b[0;32m~/anaconda3/lib/python3.6/site-packages/arcgis/_impl/connection.py\u001b[0m in \u001b[0;36mpost\u001b[0;34m(self, path, postdata, files, ssl, compress, is_retry, use_ordered_dict, add_token, verify_cert, token, try_json, out_folder, file_name, force_bytes, add_headers)\u001b[0m\n\u001b[1;32m   1151\u001b[0m                                          verify_cert=verify_cert, is_retry=True)\n\u001b[1;32m   1152\u001b[0m \u001b[0;34m\u001b[0m\u001b[0m\n\u001b[0;32m-> 1153\u001b[0;31m                 \u001b[0mself\u001b[0m\u001b[0;34m.\u001b[0m\u001b[0m_handle_json_error\u001b[0m\u001b[0;34m(\u001b[0m\u001b[0mresp_json\u001b[0m\u001b[0;34m[\u001b[0m\u001b[0;34m'error'\u001b[0m\u001b[0;34m]\u001b[0m\u001b[0;34m,\u001b[0m \u001b[0merrorcode\u001b[0m\u001b[0;34m)\u001b[0m\u001b[0;34m\u001b[0m\u001b[0m\n\u001b[0m\u001b[1;32m   1154\u001b[0m                 \u001b[0;32mreturn\u001b[0m \u001b[0;32mNone\u001b[0m\u001b[0;34m\u001b[0m\u001b[0m\n\u001b[1;32m   1155\u001b[0m         \u001b[0;32mexcept\u001b[0m \u001b[0mAttributeError\u001b[0m\u001b[0;34m:\u001b[0m\u001b[0;34m\u001b[0m\u001b[0m\n",
      "\u001b[0;32m~/anaconda3/lib/python3.6/site-packages/arcgis/_impl/connection.py\u001b[0m in \u001b[0;36m_handle_json_error\u001b[0;34m(self, error, errorcode)\u001b[0m\n\u001b[1;32m   1171\u001b[0m \u001b[0;34m\u001b[0m\u001b[0m\n\u001b[1;32m   1172\u001b[0m         \u001b[0merrormessage\u001b[0m \u001b[0;34m=\u001b[0m \u001b[0merrormessage\u001b[0m \u001b[0;34m+\u001b[0m \u001b[0;34m\"\\n(Error Code: \"\u001b[0m \u001b[0;34m+\u001b[0m \u001b[0mstr\u001b[0m\u001b[0;34m(\u001b[0m\u001b[0merrorcode\u001b[0m\u001b[0;34m)\u001b[0m \u001b[0;34m+\u001b[0m\u001b[0;34m\")\"\u001b[0m\u001b[0;34m\u001b[0m\u001b[0m\n\u001b[0;32m-> 1173\u001b[0;31m         \u001b[0;32mraise\u001b[0m \u001b[0mRuntimeError\u001b[0m\u001b[0;34m(\u001b[0m\u001b[0merrormessage\u001b[0m\u001b[0;34m)\u001b[0m\u001b[0;34m\u001b[0m\u001b[0m\n\u001b[0m\u001b[1;32m   1174\u001b[0m \u001b[0;34m\u001b[0m\u001b[0m\n\u001b[1;32m   1175\u001b[0m \u001b[0;32mclass\u001b[0m \u001b[0m_StrictURLopener\u001b[0m\u001b[0;34m(\u001b[0m\u001b[0mrequest\u001b[0m\u001b[0;34m.\u001b[0m\u001b[0mFancyURLopener\u001b[0m\u001b[0;34m)\u001b[0m\u001b[0;34m:\u001b[0m\u001b[0;34m\u001b[0m\u001b[0m\n",
      "\u001b[0;31mRuntimeError\u001b[0m: You do not have permissions to access this resource or perform this operation.\n(Error Code: 403)"
     ]
    }
   ],
   "source": [
    "jdoe.items()"
   ]
  },
  {
   "cell_type": "code",
   "execution_count": null,
   "metadata": {
    "collapsed": true
   },
   "outputs": [],
   "source": []
  }
 ],
 "metadata": {
  "anaconda-cloud": {},
  "kernelspec": {
   "display_name": "Python 3",
   "language": "python",
   "name": "python3"
  },
  "language_info": {
   "codemirror_mode": {
    "name": "ipython",
    "version": 3
   },
   "file_extension": ".py",
   "mimetype": "text/x-python",
   "name": "python",
   "nbconvert_exporter": "python",
   "pygments_lexer": "ipython3",
   "version": "3.6.3"
  }
 },
 "nbformat": 4,
 "nbformat_minor": 2
}
